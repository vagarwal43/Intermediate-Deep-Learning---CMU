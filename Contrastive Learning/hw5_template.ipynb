{
  "cells": [
    {
      "cell_type": "code",
      "execution_count": 1,
      "metadata": {
        "id": "NRUhJz057_le"
      },
      "outputs": [],
      "source": [
        "# Feel free to import anything you need\n",
        "\n",
        "import numpy as np\n",
        "from PIL import Image\n",
        "\n",
        "import torch\n",
        "import torch.nn as nn\n",
        "import torch.backends.cudnn as cudnn\n",
        "import torch.nn.functional as F\n",
        "import torchvision\n",
        "from torch.optim.lr_scheduler import LambdaLR\n",
        "from torch.utils.data import DataLoader\n",
        "from torchvision.datasets import CIFAR10\n",
        "from torchvision import transforms\n",
        "from torch.utils.data import DataLoader, SubsetRandomSampler\n",
        "import torch.optim as optim\n",
        "import matplotlib.pyplot as plt\n",
        "\n",
        "from tqdm import tqdm\n",
        "\n",
        "from torchvision.models import resnet18\n",
        "from torch.optim.lr_scheduler import StepLR"
      ]
    },
    {
      "cell_type": "code",
      "execution_count": 2,
      "metadata": {
        "id": "lt5oHKILqIB3"
      },
      "outputs": [],
      "source": [
        "###########  Do not modify this cell ###########################\n",
        "# ===============================================================\n",
        "\n",
        "### seed everything for reproducibility\n",
        "def seed_everything():\n",
        "    seed = 24789\n",
        "    np.random.seed(seed)\n",
        "    torch.manual_seed(seed)\n",
        "    torch.cuda.manual_seed(seed)"
      ]
    },
    {
      "cell_type": "markdown",
      "metadata": {
        "id": "dI44Q5CfqdNK"
      },
      "source": [
        "# 1. Contrastive learning loss functions"
      ]
    },
    {
      "cell_type": "markdown",
      "metadata": {
        "id": "AXeDWv33dEww"
      },
      "source": [
        "## 1(a) Implement the normalized temperature-scaled cross entropy loss (NT-Xent) based on SimCLR:\n",
        "https://arxiv.org/pdf/2002.05709.pdf"
      ]
    },
    {
      "cell_type": "markdown",
      "metadata": {
        "id": "Io80AHLvn5Wo"
      },
      "source": [
        "\\begin{equation}\n",
        "\\ell_{i, j}=-\\log \\frac{\\exp \\left(\\operatorname{sim}\\left(\\boldsymbol{z}_i, \\boldsymbol{z}_j\\right) / \\tau\\right)}{\\sum_{k=1}^{2 N}  \\mathbb{1}_{[k \\neq i]} \\exp \\left(\\operatorname{sim}\\left(\\boldsymbol{z}_i, \\boldsymbol{z}_k\\right) / \\tau\\right)}\n",
        "\\end{equation}"
      ]
    },
    {
      "cell_type": "code",
      "execution_count": 3,
      "metadata": {
        "id": "Ax5Ha3k-c2LQ"
      },
      "outputs": [],
      "source": [
        "def nt_xent(x, t=0.5):\n",
        "    \"\"\"\n",
        "    1. Normalize across the second dimension\n",
        "    2. Compute the normalized cosine similarity scores between x and its transpose\n",
        "    3. Scale the normalized cosine similarity scores x_scores by dividing them by a temperature\n",
        "\n",
        "    \"\"\"\n",
        "    # 1. Normalize across the second dimension\n",
        "    x = F.normalize(x, p=2, dim=1)\n",
        "\n",
        "    # 2. Compute the normalized cosine similarity scores between x and its transpose and scale the with temperature\n",
        "\n",
        "    x_scores = torch.matmul(x, x.t()).to(x.device)\n",
        "    x_scale = x_scores/t\n",
        "\n",
        "\n",
        "    # Subtract a diagonal matrix with large negative values from x_scale to set the diagonals to be zeros after softmax.\n",
        "    x_scale = x_scale - torch.eye(x_scale.size(0)).to(x_scale.device) * 1e5\n",
        "\n",
        "    # targets 2N elements.\n",
        "    targets = torch.arange(x.size()[0]).to(x.device)\n",
        "    targets[::2] += 1  # target of 2k element is 2k+1\n",
        "    targets[1::2] -= 1  # target of 2k+1 element is 2k\n",
        "\n",
        "    # 3 . Compute the cross entropy loss between x_scale and target and return the computed loss\n",
        "    loss = torch.nn.CrossEntropyLoss()(x_scale, targets)\n",
        "\n",
        "    return loss"
      ]
    },
    {
      "cell_type": "code",
      "execution_count": 4,
      "metadata": {
        "id": "6rhf-WxNoObF",
        "colab": {
          "base_uri": "https://localhost:8080/"
        },
        "outputId": "ca18d407-f924-435a-b2fe-6030b881ec18"
      },
      "outputs": [
        {
          "output_type": "stream",
          "name": "stdout",
          "text": [
            "z: \n",
            " tensor([[-0.2997, -0.6194, -0.4414],\n",
            "        [-1.2945, -0.1358, -0.2589],\n",
            "        [-0.7526,  0.4345, -0.9680],\n",
            "        [ 0.8034, -2.5620,  0.9044]])\n",
            "Loss: \n",
            " tensor(1.6224)\n"
          ]
        }
      ],
      "source": [
        "seed_everything()\n",
        "\n",
        "z = torch.randn(4,3)\n",
        "t = 0.7\n",
        "\n",
        "loss = nt_xent(z, t)\n",
        "\n",
        "print(\"z: \\n\", z)\n",
        "print(\"Loss: \\n\", loss)"
      ]
    },
    {
      "cell_type": "markdown",
      "metadata": {
        "id": "WImNc2GUqY9S"
      },
      "source": [
        "## 1 (b) Implement Barlow twins loss function\n",
        "https://arxiv.org/pdf/2103.03230.pdf\n"
      ]
    },
    {
      "cell_type": "markdown",
      "metadata": {
        "id": "uOi6AEu4kD5b"
      },
      "source": [
        "Cross correlation matrix\n",
        "\\begin{equation}\n",
        "\\mathcal{C}_{i j} \\triangleq \\frac{\\sum_b z_{b, i}^A z_{b, j}^B}{\\sqrt{\\sum_b\\left(z_{b, i}^A\\right)^2} \\sqrt{\\sum_b\\left(z_{b, j}^B\\right)^2}}\n",
        "\\end{equation}\n",
        "Barlow Twins loss\n",
        "\n",
        "\\begin{equation}\n",
        "\\mathcal{L}_{\\mathcal{B} \\mathcal{T}} \\triangleq \\sum_i\\left(1-\\mathcal{C}_{i i}\\right)^2+\\lambda \\quad \\sum_i \\sum_{j \\neq i} \\mathcal{C}_{i j}^2\n",
        "\\end{equation}"
      ]
    },
    {
      "cell_type": "code",
      "execution_count": 5,
      "metadata": {
        "id": "PlmHoKI9chQU"
      },
      "outputs": [],
      "source": [
        "def off_diag_elems(x):\n",
        "    \"\"\"\n",
        "    Compute the flattened view of the off-diagonal elements of a matrix\n",
        "\n",
        "    \"\"\"\n",
        "    #FILLIN\n",
        "    n = x.size(0)\n",
        "    indices = torch.triu_indices(n,n,offset=1)\n",
        "\n",
        "    return x[indices[0],indices[1]]\n",
        "\n",
        "def barlow_twins(z1, z2, lamda, batch_size):\n",
        "    \"\"\"\n",
        "    z1 and z2 are the output image representations\n",
        "    1. Normalize the representations across the batch dimension (dim=0)\n",
        "    2. Compute the cross correlation matrix (given in the equation above)\n",
        "    3. Compute the barlow twins loss by following the equations given above\n",
        "\n",
        "    \"\"\"\n",
        "    #FILLIN\n",
        "    z1_norm = F.normalize(z1, dim=0)\n",
        "    z2_norm = F.normalize(z2, dim=0)\n",
        "\n",
        "    cross_corr_matrix = torch.mm(z1_norm.t(), z2_norm) / batch_size\n",
        "\n",
        "    off_diag = off_diag_elems(cross_corr_matrix)\n",
        "\n",
        "    loss = (1 - torch.diagonal(cross_corr_matrix).pow(2)).sum() + lamda * off_diag.pow(2).sum()\n",
        "\n",
        "    return loss"
      ]
    },
    {
      "cell_type": "code",
      "execution_count": 6,
      "metadata": {
        "id": "IY7mgqQnjkFi",
        "colab": {
          "base_uri": "https://localhost:8080/"
        },
        "outputId": "fae8a06e-3bd4-4675-ca71-6bc600faa31a"
      },
      "outputs": [
        {
          "output_type": "stream",
          "name": "stdout",
          "text": [
            "z1: \n",
            " tensor([[-0.6637, -2.2035, -0.5497,  0.1591],\n",
            "        [-0.8427, -0.3029, -1.2701, -0.8752],\n",
            "        [ 0.1743, -0.6272, -0.5871, -1.7928],\n",
            "        [-1.7089,  0.2134, -0.3203, -0.3736]])\n",
            "z2: \n",
            " tensor([[ 0.6968,  1.8388, -0.9387, -0.4800],\n",
            "        [-1.4524,  1.3257,  0.9204, -0.5180],\n",
            "        [-1.0516, -0.5895,  0.5390,  0.0944],\n",
            "        [-1.7974,  0.0804,  0.7257,  0.9933]])\n",
            "Loss: \n",
            " tensor(3.9208)\n"
          ]
        }
      ],
      "source": [
        "seed_everything()\n",
        "\n",
        "N = 4\n",
        "z1 = torch.randn(N, 4)\n",
        "z2 = torch.randn(N, 4)\n",
        "lamda = 5e-3\n",
        "\n",
        "loss = barlow_twins(z1, z2, lamda, N)\n",
        "\n",
        "print(\"z1: \\n\", z1)\n",
        "print(\"z2: \\n\", z2)\n",
        "print(\"Loss: \\n\", loss)"
      ]
    },
    {
      "cell_type": "markdown",
      "metadata": {
        "id": "emZ4VWK7nWvr"
      },
      "source": [
        "# 2. Implement the SimCLR model"
      ]
    },
    {
      "cell_type": "code",
      "execution_count": 7,
      "metadata": {
        "id": "Txvy1HDAc7P5"
      },
      "outputs": [],
      "source": [
        "class SimCLR(nn.Module):\n",
        "    def __init__(self, base_encoder, projection_dim):\n",
        "        super().__init__()\n",
        "        self.enc = base_encoder\n",
        "        self.feature_dim = self.enc.fc.in_features\n",
        "\n",
        "        # Modifying the base encoder as mentioned in B4 of SimCLR\n",
        "        self.enc.conv1 = nn.Conv2d(3, 64, 3, 1, 1, bias=False)\n",
        "        self.enc.maxpool = nn.Identity()\n",
        "        self.enc.fc = nn.Identity()\n",
        "\n",
        "        # Add MLP projection.\n",
        "        self.projection_dim = projection_dim\n",
        "        self.projector = nn.Sequential(nn.Linear(self.feature_dim, 2048),\n",
        "                                       nn.ReLU(),\n",
        "                                       nn.Linear(2048, projection_dim))\n",
        "\n",
        "    def forward(self, x):\n",
        "\n",
        "        ######## Define the forward function ############################\n",
        "\n",
        "        feature = self.enc(x)\n",
        "\n",
        "        projection = self.projector(feature)\n",
        "\n",
        "        return feature, projection\n"
      ]
    },
    {
      "cell_type": "code",
      "execution_count": 8,
      "metadata": {
        "id": "xpsD3lHyd7Vh"
      },
      "outputs": [],
      "source": [
        "###########  Do not modify this cell ###########################\n",
        "# ===============================================================\n",
        "\n",
        "class AverageMeter(object):\n",
        "    \"\"\"Computes and stores the average and current value\"\"\"\n",
        "    def __init__(self, name):\n",
        "        self.name = name\n",
        "        self.reset()\n",
        "\n",
        "    def reset(self):\n",
        "        self.val = 0\n",
        "        self.avg = 0\n",
        "        self.sum = 0\n",
        "        self.count = 0\n",
        "\n",
        "    def update(self, val, n=1):\n",
        "        self.val = val\n",
        "        self.sum += val * n\n",
        "        self.count += n\n",
        "        self.avg = self.sum / self.count\n"
      ]
    },
    {
      "cell_type": "markdown",
      "metadata": {
        "id": "KMRlattQyClH"
      },
      "source": [
        "Creating pairs of image on the training set"
      ]
    },
    {
      "cell_type": "code",
      "execution_count": 9,
      "metadata": {
        "id": "9UUWeeUKgH8Z"
      },
      "outputs": [],
      "source": [
        "###########  Do not modify this cell ###########################\n",
        "# ===============================================================\n",
        "\n",
        "class CIFAR10Pair(CIFAR10):\n",
        "    \"\"\"Generate mini-batche pairs on CIFAR10 training set.\"\"\"\n",
        "    def __getitem__(self, idx):\n",
        "        img, target = self.data[idx], self.targets[idx]\n",
        "        img = Image.fromarray(img)\n",
        "        imgs = [self.transform(img), self.transform(img)]\n",
        "        return torch.stack(imgs), target  # stack a positive pair"
      ]
    },
    {
      "cell_type": "markdown",
      "metadata": {
        "id": "DZyRK1GGyQg-"
      },
      "source": [
        "#3. Define the transformations, dataloaders, model, optimizer, scheduler and parameters required for training"
      ]
    },
    {
      "cell_type": "code",
      "execution_count": 15,
      "metadata": {
        "id": "r8TI5Ts910fk"
      },
      "outputs": [],
      "source": [
        "############ Define the parameters for training ##############\n",
        "\n",
        "batch_size = 128\n",
        "projection_dim = 128\n",
        "learning_rate =  0.001\n",
        "momentum = 0.9\n",
        "weight_decay = 0.0001\n",
        "epochs = 50\n"
      ]
    },
    {
      "cell_type": "code",
      "execution_count": 12,
      "metadata": {
        "colab": {
          "base_uri": "https://localhost:8080/"
        },
        "id": "gSKk3wpueZBW",
        "outputId": "7ea89fed-9809-457e-a318-79686548756b"
      },
      "outputs": [
        {
          "output_type": "stream",
          "name": "stdout",
          "text": [
            "Downloading https://www.cs.toronto.edu/~kriz/cifar-10-python.tar.gz to /content/cifar-10-python.tar.gz\n"
          ]
        },
        {
          "output_type": "stream",
          "name": "stderr",
          "text": [
            "100%|██████████| 170498071/170498071 [00:12<00:00, 13135028.89it/s]\n"
          ]
        },
        {
          "output_type": "stream",
          "name": "stdout",
          "text": [
            "Extracting /content/cifar-10-python.tar.gz to /content\n"
          ]
        },
        {
          "output_type": "stream",
          "name": "stderr",
          "text": [
            "/usr/local/lib/python3.10/dist-packages/torchvision/models/_utils.py:208: UserWarning: The parameter 'pretrained' is deprecated since 0.13 and may be removed in the future, please use 'weights' instead.\n",
            "  warnings.warn(\n",
            "/usr/local/lib/python3.10/dist-packages/torchvision/models/_utils.py:223: UserWarning: Arguments other than a weight enum or `None` for 'weights' are deprecated since 0.13 and may be removed in the future. The current behavior is equivalent to passing `weights=None`.\n",
            "  warnings.warn(msg)\n"
          ]
        }
      ],
      "source": [
        "assert torch.cuda.is_available()\n",
        "cudnn.benchmark = True\n",
        "\n",
        "######### Define the transformation on the training set\n",
        "### Refer to the paper to understand which transformations to use ######\n",
        "\n",
        "train_transform = transforms.Compose([\n",
        "    transforms.RandomCrop(size=32, padding=4, padding_mode='reflect'),\n",
        "    transforms.Resize(size=32),\n",
        "    transforms.ColorJitter(brightness=0.4, contrast=0.4, saturation=0.4, hue=0.1),\n",
        "    transforms.RandomHorizontalFlip(),\n",
        "    transforms.RandomApply([transforms.GaussianBlur(kernel_size=3)], p=0.5),\n",
        "    transforms.ToTensor()])\n",
        "\n",
        "##### get absolute path of data dir\n",
        "\n",
        "data_dir = \"/content\"\n",
        "\n",
        "\n",
        "########## Define the train set and train dataloader and shuffle the train set\n",
        "\n",
        "train_set = CIFAR10Pair(root=data_dir,\n",
        "                        train=True,\n",
        "                        transform=train_transform,\n",
        "                        download=True)\n",
        "\n",
        "train_loader = DataLoader(train_set, batch_size=batch_size, shuffle = True)\n",
        "\n",
        "\n",
        "######## Define the base encoder(resnet18) -- load from torchvision.models without pretraining\n",
        "\n",
        "base_encoder = resnet18(pretrained=False)\n",
        "model = SimCLR(base_encoder, projection_dim).cuda()\n",
        "model = model.cuda()\n",
        "\n",
        "########### Define the optimizer and scheduler for training #######################\n",
        "\n",
        "optimizer = optim.SGD(model.parameters(), lr=learning_rate, momentum=momentum, weight_decay=weight_decay)\n",
        "\n",
        "\n",
        "scheduler = StepLR(optimizer, step_size=30, gamma=0.1)\n"
      ]
    },
    {
      "cell_type": "code",
      "execution_count": 13,
      "metadata": {
        "id": "XT-fhx2bc2V6"
      },
      "outputs": [],
      "source": [
        "def train(args) -> None:\n",
        "    # SimCLR training\n",
        "    model.train()\n",
        "    best_loss = np.inf\n",
        "    #print(epochs)\n",
        "    for epoch in range(1, args['epochs'] + 1):\n",
        "        loss_meter = AverageMeter(\"SimCLR_loss\")\n",
        "        train_bar = tqdm(train_loader)\n",
        "        for x, y in train_bar:\n",
        "            sizes = x.size()\n",
        "            x = x.view(sizes[0] * 2, sizes[2], sizes[3], sizes[4]).cuda(non_blocking=True)\n",
        "            optimizer.zero_grad()\n",
        "\n",
        "            ####### Get the output from the model ################\n",
        "\n",
        "            feature, rep = model(x)\n",
        "            feature = feature.cuda()\n",
        "            rep = rep.cuda()\n",
        "\n",
        "            ###### Compute the loss using nt-cross entropy loss  #####################################\n",
        "\n",
        "            loss = nt_xent(rep)\n",
        "            loss.backward()\n",
        "            optimizer.step()\n",
        "            scheduler.step()\n",
        "\n",
        "            loss_meter.update(loss.item(), x.size(0))\n",
        "            train_bar.set_description(\"Train epoch {}, SimCLR loss: {:.4f}\".format(epoch, loss_meter.avg))\n",
        "            if loss.item() < best_loss:\n",
        "                best_loss = loss.item()\n",
        "                torch.save(model.state_dict(), 'simclr_best_epoch.pt'.format(epoch))\n"
      ]
    },
    {
      "cell_type": "code",
      "execution_count": 14,
      "metadata": {
        "id": "zNfD8KQkeCmS",
        "colab": {
          "base_uri": "https://localhost:8080/"
        },
        "outputId": "55a6e3f1-d691-4741-a8f2-6710a22d519a"
      },
      "outputs": [
        {
          "output_type": "stream",
          "name": "stderr",
          "text": [
            "Train epoch 1, SimCLR loss: 5.0883: 100%|██████████| 391/391 [04:03<00:00,  1.60it/s]\n",
            "Train epoch 2, SimCLR loss: 5.0556: 100%|██████████| 391/391 [03:50<00:00,  1.69it/s]\n",
            "Train epoch 3, SimCLR loss: 5.0508: 100%|██████████| 391/391 [03:51<00:00,  1.69it/s]\n"
          ]
        }
      ],
      "source": [
        "args = {\n",
        "    'epochs':  3,\n",
        "    'batch_size':  128,\n",
        "    'temperature': 0.5,\n",
        "}\n",
        "\n",
        "train(args)"
      ]
    },
    {
      "cell_type": "markdown",
      "metadata": {
        "id": "BmgKAHPnTz_d"
      },
      "source": [
        "# Finetuning and testing the saved model"
      ]
    },
    {
      "cell_type": "code",
      "execution_count": 16,
      "metadata": {
        "id": "9BBAXJwiTzQG"
      },
      "outputs": [],
      "source": [
        "###########  Do not modify this cell ###########################\n",
        "# ===============================================================\n",
        "\n",
        "\n",
        "class LinModel(nn.Module):\n",
        "    \"\"\"Linear wrapper of encoder.\"\"\"\n",
        "    def __init__(self, encoder: nn.Module, feature_dim: int, n_classes: int):\n",
        "        super().__init__()\n",
        "        self.enc = encoder\n",
        "        self.feature_dim = feature_dim\n",
        "        self.n_classes = n_classes\n",
        "        self.lin = nn.Linear(self.feature_dim, self.n_classes)\n",
        "\n",
        "    def forward(self, x):\n",
        "        x = self.enc(x)\n",
        "        x = self.lin(x)\n",
        "        return x"
      ]
    },
    {
      "cell_type": "code",
      "execution_count": 17,
      "metadata": {
        "id": "u1lM-GlnTzYa"
      },
      "outputs": [],
      "source": [
        "###########  Do not modify this cell ###########################\n",
        "# ===============================================================\n",
        "\n",
        "def run_epoch(model, dataloader, epoch, optimizer=None, scheduler=None):\n",
        "    if optimizer:\n",
        "        model.train()\n",
        "        print(\"training...........\")\n",
        "    else:\n",
        "        model.eval()\n",
        "        print(\"eval...............\")\n",
        "\n",
        "    loss_meter = AverageMeter('loss')\n",
        "    acc_meter = AverageMeter('acc')\n",
        "    loader_bar = tqdm(dataloader)\n",
        "    for x, y in loader_bar:\n",
        "        x, y = x.cuda(), y.cuda()\n",
        "        logits = model(x)\n",
        "        loss = F.cross_entropy(logits, y)\n",
        "\n",
        "        if optimizer:\n",
        "            optimizer.zero_grad()\n",
        "            loss.backward()\n",
        "            optimizer.step()\n",
        "            if scheduler:\n",
        "                scheduler.step()\n",
        "\n",
        "        acc = (logits.argmax(dim=1) == y).float().mean()\n",
        "        loss_meter.update(loss.item(), x.size(0))\n",
        "        acc_meter.update(acc.item(), x.size(0))\n",
        "        if optimizer:\n",
        "            loader_bar.set_description(\"Train epoch {}, loss: {:.4f}, acc: {:.4f}\"\n",
        "                                       .format(epoch, loss_meter.avg, acc_meter.avg))\n",
        "        else:\n",
        "            loader_bar.set_description(\"Test epoch {}, loss: {:.4f}, acc: {:.4f}\"\n",
        "                                       .format(epoch, loss_meter.avg, acc_meter.avg))\n",
        "\n",
        "    return loss_meter.avg, acc_meter.avg"
      ]
    },
    {
      "cell_type": "code",
      "execution_count": 18,
      "metadata": {
        "id": "ZVZdfHCGZhu1",
        "colab": {
          "base_uri": "https://localhost:8080/"
        },
        "outputId": "c7e3a400-43f2-4d72-d0c3-2950d9fe8418"
      },
      "outputs": [
        {
          "output_type": "stream",
          "name": "stdout",
          "text": [
            "Files already downloaded and verified\n",
            "Files already downloaded and verified\n"
          ]
        }
      ],
      "source": [
        "############################################ Define train and test transforms #########################################################\n",
        "### Refer to the paper to understand which transformations to use ######\n",
        "\n",
        "train_transform = transforms.Compose([transforms.RandomCrop(size=32, padding=4, padding_mode='reflect'),\n",
        "    transforms.Resize(size=32),\n",
        "    transforms.ColorJitter(brightness=0.4, contrast=0.4, saturation=0.4, hue=0.1),\n",
        "    transforms.RandomHorizontalFlip(),\n",
        "    transforms.RandomApply([transforms.GaussianBlur(kernel_size=3)], p=0.5),\n",
        "    transforms.ToTensor()\n",
        "])\n",
        "\n",
        "test_transform = transforms.Compose([transforms.RandomCrop(size=32, padding=4, padding_mode='reflect'),\n",
        "    transforms.Resize(size=32),\n",
        "    transforms.ColorJitter(brightness=0.4, contrast=0.4, saturation=0.4, hue=0.1),\n",
        "    transforms.RandomHorizontalFlip(),\n",
        "    transforms.RandomApply([transforms.GaussianBlur(kernel_size=3)], p=0.5),\n",
        "    transforms.ToTensor()\n",
        "])\n",
        "\n",
        "\n",
        "data_dir = '/content'\n",
        "\n",
        "###################################### Define train and test dataloader #########################################\n",
        "\n",
        "train_set = CIFAR10(root=data_dir, train=True, download=True, transform=train_transform)\n",
        "test_set = CIFAR10(root=data_dir, train=False, download=True, transform=test_transform)\n",
        "\n",
        "n_classes = 10\n",
        "\n",
        "train_loader = DataLoader(train_set, batch_size=batch_size, shuffle=True)\n",
        "test_loader = DataLoader(test_set, batch_size=batch_size, shuffle=False)\n",
        "\n",
        "################################ Define the model and load the trained weights of the best model ##############################\n",
        "\"\"\"\n",
        "Load the weights for the best SimCLR model and pass the encoder to LinModel for fine-tuning\n",
        "\"\"\"\n",
        "base_encoder = resnet18(pretrained=False)\n",
        "pre_model = SimCLR(base_encoder, projection_dim).cuda()\n",
        "pre_model.load_state_dict(torch.load(\"/content/simclr_best_epoch.pt\"))\n",
        "model = LinModel(pre_model.enc, feature_dim=pre_model.feature_dim, n_classes=len(train_set.targets))\n",
        "model = model.cuda()\n",
        "\n",
        "# Fix encoder\n",
        "model.enc.requires_grad = False\n",
        "parameters = [param for param in model.parameters() if param.requires_grad is True]  # trainable parameters.\n",
        "\n",
        "############################# Define the optimizer and scheduler ###################################################\n",
        "\n",
        "optimizer = optim.SGD(model.parameters(), lr=learning_rate, momentum=momentum, weight_decay=weight_decay)\n",
        "\n",
        "scheduler = torch.optim.lr_scheduler.CosineAnnealingLR(optimizer, T_max=100, eta_min=0)\n",
        "\n"
      ]
    },
    {
      "cell_type": "code",
      "execution_count": 19,
      "metadata": {
        "id": "g2XRPeRATzbV"
      },
      "outputs": [],
      "source": [
        "###########  Do not modify this cell ###########################\n",
        "# ===============================================================\n",
        "\n",
        "def finetune() -> None:\n",
        "\n",
        "    optimal_loss, optimal_acc = 1e5, 0.\n",
        "    train_losses, test_losses = [], []\n",
        "    train_accuracies, test_accuracies = [], []\n",
        "    for epoch in range(1, epochs + 1):\n",
        "        train_loss, train_acc = run_epoch(model, train_loader, epoch, optimizer, scheduler)\n",
        "        train_losses.append(train_loss)\n",
        "        train_accuracies.append(train_acc)\n",
        "        test_loss, test_acc = run_epoch(model, test_loader, epoch)\n",
        "        test_losses.append(test_loss)\n",
        "        test_accuracies.append(test_acc)\n",
        "\n",
        "        if train_loss < optimal_loss:\n",
        "            optimal_loss = train_loss\n",
        "            optimal_acc = test_acc\n",
        "            torch.save(model.state_dict(), 'simclr_lin_best.pth')\n",
        "\n",
        "    return train_losses, train_accuracies, test_losses, test_accuracies"
      ]
    },
    {
      "cell_type": "code",
      "execution_count": 20,
      "metadata": {
        "id": "IbSR0nWqTzeg",
        "colab": {
          "base_uri": "https://localhost:8080/",
          "height": 1000
        },
        "outputId": "7b52087d-bf4d-4e49-ecc4-c9555e17cf75"
      },
      "outputs": [
        {
          "output_type": "stream",
          "name": "stdout",
          "text": [
            "training...........\n"
          ]
        },
        {
          "output_type": "stream",
          "name": "stderr",
          "text": [
            "Train epoch 1, loss: 2.6016, acc: 0.2275: 100%|██████████| 391/391 [02:06<00:00,  3.09it/s]\n"
          ]
        },
        {
          "output_type": "stream",
          "name": "stdout",
          "text": [
            "eval...............\n"
          ]
        },
        {
          "output_type": "stream",
          "name": "stderr",
          "text": [
            "Test epoch 1, loss: 1.9272, acc: 0.2892: 100%|██████████| 79/79 [00:19<00:00,  4.11it/s]\n"
          ]
        },
        {
          "output_type": "stream",
          "name": "stdout",
          "text": [
            "training...........\n"
          ]
        },
        {
          "output_type": "stream",
          "name": "stderr",
          "text": [
            "Train epoch 2, loss: 1.8212, acc: 0.3285: 100%|██████████| 391/391 [02:01<00:00,  3.22it/s]\n"
          ]
        },
        {
          "output_type": "stream",
          "name": "stdout",
          "text": [
            "eval...............\n"
          ]
        },
        {
          "output_type": "stream",
          "name": "stderr",
          "text": [
            "Test epoch 2, loss: 1.7684, acc: 0.3510: 100%|██████████| 79/79 [00:20<00:00,  3.95it/s]\n"
          ]
        },
        {
          "output_type": "stream",
          "name": "stdout",
          "text": [
            "training...........\n"
          ]
        },
        {
          "output_type": "stream",
          "name": "stderr",
          "text": [
            "Train epoch 3, loss: 1.7094, acc: 0.3677: 100%|██████████| 391/391 [02:01<00:00,  3.22it/s]\n"
          ]
        },
        {
          "output_type": "stream",
          "name": "stdout",
          "text": [
            "eval...............\n"
          ]
        },
        {
          "output_type": "stream",
          "name": "stderr",
          "text": [
            "Test epoch 3, loss: 1.6816, acc: 0.3758: 100%|██████████| 79/79 [00:19<00:00,  4.08it/s]\n"
          ]
        },
        {
          "output_type": "stream",
          "name": "stdout",
          "text": [
            "training...........\n"
          ]
        },
        {
          "output_type": "stream",
          "name": "stderr",
          "text": [
            "Train epoch 4, loss: 1.6392, acc: 0.3967: 100%|██████████| 391/391 [02:02<00:00,  3.18it/s]\n"
          ]
        },
        {
          "output_type": "stream",
          "name": "stdout",
          "text": [
            "eval...............\n"
          ]
        },
        {
          "output_type": "stream",
          "name": "stderr",
          "text": [
            "Test epoch 4, loss: 1.6183, acc: 0.4023: 100%|██████████| 79/79 [00:20<00:00,  3.94it/s]\n"
          ]
        },
        {
          "output_type": "stream",
          "name": "stdout",
          "text": [
            "training...........\n"
          ]
        },
        {
          "output_type": "stream",
          "name": "stderr",
          "text": [
            "Train epoch 5, loss: 1.5799, acc: 0.4194: 100%|██████████| 391/391 [02:02<00:00,  3.20it/s]\n"
          ]
        },
        {
          "output_type": "stream",
          "name": "stdout",
          "text": [
            "eval...............\n"
          ]
        },
        {
          "output_type": "stream",
          "name": "stderr",
          "text": [
            "Test epoch 5, loss: 1.5360, acc: 0.4312: 100%|██████████| 79/79 [00:19<00:00,  3.99it/s]\n"
          ]
        },
        {
          "output_type": "stream",
          "name": "stdout",
          "text": [
            "training...........\n"
          ]
        },
        {
          "output_type": "stream",
          "name": "stderr",
          "text": [
            "Train epoch 6, loss: 1.5257, acc: 0.4436: 100%|██████████| 391/391 [02:02<00:00,  3.18it/s]\n"
          ]
        },
        {
          "output_type": "stream",
          "name": "stdout",
          "text": [
            "eval...............\n"
          ]
        },
        {
          "output_type": "stream",
          "name": "stderr",
          "text": [
            "Test epoch 6, loss: 1.4878, acc: 0.4518: 100%|██████████| 79/79 [00:20<00:00,  3.94it/s]\n"
          ]
        },
        {
          "output_type": "stream",
          "name": "stdout",
          "text": [
            "training...........\n"
          ]
        },
        {
          "output_type": "stream",
          "name": "stderr",
          "text": [
            "Train epoch 7, loss: 1.4780, acc: 0.4606: 100%|██████████| 391/391 [02:02<00:00,  3.20it/s]\n"
          ]
        },
        {
          "output_type": "stream",
          "name": "stdout",
          "text": [
            "eval...............\n"
          ]
        },
        {
          "output_type": "stream",
          "name": "stderr",
          "text": [
            "Test epoch 7, loss: 1.4429, acc: 0.4703: 100%|██████████| 79/79 [00:19<00:00,  3.99it/s]\n"
          ]
        },
        {
          "output_type": "stream",
          "name": "stdout",
          "text": [
            "training...........\n"
          ]
        },
        {
          "output_type": "stream",
          "name": "stderr",
          "text": [
            "Train epoch 8, loss: 1.4329, acc: 0.4788: 100%|██████████| 391/391 [02:02<00:00,  3.19it/s]\n"
          ]
        },
        {
          "output_type": "stream",
          "name": "stdout",
          "text": [
            "eval...............\n"
          ]
        },
        {
          "output_type": "stream",
          "name": "stderr",
          "text": [
            "Test epoch 8, loss: 1.3894, acc: 0.4921: 100%|██████████| 79/79 [00:19<00:00,  4.14it/s]\n"
          ]
        },
        {
          "output_type": "stream",
          "name": "stdout",
          "text": [
            "training...........\n"
          ]
        },
        {
          "output_type": "stream",
          "name": "stderr",
          "text": [
            "Train epoch 9, loss: 1.3975, acc: 0.4936: 100%|██████████| 391/391 [02:01<00:00,  3.22it/s]\n"
          ]
        },
        {
          "output_type": "stream",
          "name": "stdout",
          "text": [
            "eval...............\n"
          ]
        },
        {
          "output_type": "stream",
          "name": "stderr",
          "text": [
            "Test epoch 9, loss: 1.3529, acc: 0.5043: 100%|██████████| 79/79 [00:19<00:00,  3.95it/s]\n"
          ]
        },
        {
          "output_type": "stream",
          "name": "stdout",
          "text": [
            "training...........\n"
          ]
        },
        {
          "output_type": "stream",
          "name": "stderr",
          "text": [
            "Train epoch 10, loss: 1.3543, acc: 0.5105: 100%|██████████| 391/391 [02:02<00:00,  3.20it/s]\n"
          ]
        },
        {
          "output_type": "stream",
          "name": "stdout",
          "text": [
            "eval...............\n"
          ]
        },
        {
          "output_type": "stream",
          "name": "stderr",
          "text": [
            "Test epoch 10, loss: 1.3147, acc: 0.5219: 100%|██████████| 79/79 [00:19<00:00,  4.11it/s]\n"
          ]
        },
        {
          "output_type": "stream",
          "name": "stdout",
          "text": [
            "training...........\n"
          ]
        },
        {
          "output_type": "stream",
          "name": "stderr",
          "text": [
            "Train epoch 11, loss: 1.3124, acc: 0.5277: 100%|██████████| 391/391 [02:01<00:00,  3.22it/s]\n"
          ]
        },
        {
          "output_type": "stream",
          "name": "stdout",
          "text": [
            "eval...............\n"
          ]
        },
        {
          "output_type": "stream",
          "name": "stderr",
          "text": [
            "Test epoch 11, loss: 1.2782, acc: 0.5364: 100%|██████████| 79/79 [00:20<00:00,  3.83it/s]\n"
          ]
        },
        {
          "output_type": "stream",
          "name": "stdout",
          "text": [
            "training...........\n"
          ]
        },
        {
          "output_type": "stream",
          "name": "stderr",
          "text": [
            "Train epoch 12, loss: 1.2772, acc: 0.5419: 100%|██████████| 391/391 [02:01<00:00,  3.22it/s]\n"
          ]
        },
        {
          "output_type": "stream",
          "name": "stdout",
          "text": [
            "eval...............\n"
          ]
        },
        {
          "output_type": "stream",
          "name": "stderr",
          "text": [
            "Test epoch 12, loss: 1.2409, acc: 0.5499: 100%|██████████| 79/79 [00:19<00:00,  4.08it/s]\n"
          ]
        },
        {
          "output_type": "stream",
          "name": "stdout",
          "text": [
            "training...........\n"
          ]
        },
        {
          "output_type": "stream",
          "name": "stderr",
          "text": [
            "Train epoch 13, loss: 1.2391, acc: 0.5543: 100%|██████████| 391/391 [02:01<00:00,  3.21it/s]\n"
          ]
        },
        {
          "output_type": "stream",
          "name": "stdout",
          "text": [
            "eval...............\n"
          ]
        },
        {
          "output_type": "stream",
          "name": "stderr",
          "text": [
            "Test epoch 13, loss: 1.2105, acc: 0.5645: 100%|██████████| 79/79 [00:19<00:00,  4.05it/s]\n"
          ]
        },
        {
          "output_type": "stream",
          "name": "stdout",
          "text": [
            "training...........\n"
          ]
        },
        {
          "output_type": "stream",
          "name": "stderr",
          "text": [
            "Train epoch 14, loss: 1.2084, acc: 0.5654: 100%|██████████| 391/391 [02:01<00:00,  3.22it/s]\n"
          ]
        },
        {
          "output_type": "stream",
          "name": "stdout",
          "text": [
            "eval...............\n"
          ]
        },
        {
          "output_type": "stream",
          "name": "stderr",
          "text": [
            "Test epoch 14, loss: 1.1796, acc: 0.5710: 100%|██████████| 79/79 [00:20<00:00,  3.94it/s]\n"
          ]
        },
        {
          "output_type": "stream",
          "name": "stdout",
          "text": [
            "training...........\n"
          ]
        },
        {
          "output_type": "stream",
          "name": "stderr",
          "text": [
            "Train epoch 15, loss: 1.1748, acc: 0.5795: 100%|██████████| 391/391 [02:02<00:00,  3.19it/s]\n"
          ]
        },
        {
          "output_type": "stream",
          "name": "stdout",
          "text": [
            "eval...............\n"
          ]
        },
        {
          "output_type": "stream",
          "name": "stderr",
          "text": [
            "Test epoch 15, loss: 1.1691, acc: 0.5797: 100%|██████████| 79/79 [00:19<00:00,  4.08it/s]\n"
          ]
        },
        {
          "output_type": "stream",
          "name": "stdout",
          "text": [
            "training...........\n"
          ]
        },
        {
          "output_type": "stream",
          "name": "stderr",
          "text": [
            "Train epoch 16, loss: 1.1451, acc: 0.5899: 100%|██████████| 391/391 [02:02<00:00,  3.18it/s]\n"
          ]
        },
        {
          "output_type": "stream",
          "name": "stdout",
          "text": [
            "eval...............\n"
          ]
        },
        {
          "output_type": "stream",
          "name": "stderr",
          "text": [
            "Test epoch 16, loss: 1.1360, acc: 0.5910: 100%|██████████| 79/79 [00:20<00:00,  3.93it/s]\n"
          ]
        },
        {
          "output_type": "stream",
          "name": "stdout",
          "text": [
            "training...........\n"
          ]
        },
        {
          "output_type": "stream",
          "name": "stderr",
          "text": [
            "Train epoch 17, loss: 1.1179, acc: 0.6013: 100%|██████████| 391/391 [02:01<00:00,  3.22it/s]\n"
          ]
        },
        {
          "output_type": "stream",
          "name": "stdout",
          "text": [
            "eval...............\n"
          ]
        },
        {
          "output_type": "stream",
          "name": "stderr",
          "text": [
            "Test epoch 17, loss: 1.1906, acc: 0.5715: 100%|██████████| 79/79 [00:19<00:00,  4.11it/s]\n"
          ]
        },
        {
          "output_type": "stream",
          "name": "stdout",
          "text": [
            "training...........\n"
          ]
        },
        {
          "output_type": "stream",
          "name": "stderr",
          "text": [
            "Train epoch 18, loss: 1.0944, acc: 0.6082: 100%|██████████| 391/391 [02:02<00:00,  3.19it/s]\n"
          ]
        },
        {
          "output_type": "stream",
          "name": "stdout",
          "text": [
            "eval...............\n"
          ]
        },
        {
          "output_type": "stream",
          "name": "stderr",
          "text": [
            "Test epoch 18, loss: 1.1717, acc: 0.5785: 100%|██████████| 79/79 [00:20<00:00,  3.93it/s]\n"
          ]
        },
        {
          "output_type": "stream",
          "name": "stdout",
          "text": [
            "training...........\n"
          ]
        },
        {
          "output_type": "stream",
          "name": "stderr",
          "text": [
            "Train epoch 19, loss: 1.0684, acc: 0.6165: 100%|██████████| 391/391 [02:01<00:00,  3.21it/s]\n"
          ]
        },
        {
          "output_type": "stream",
          "name": "stdout",
          "text": [
            "eval...............\n"
          ]
        },
        {
          "output_type": "stream",
          "name": "stderr",
          "text": [
            "Test epoch 19, loss: 1.1197, acc: 0.6000: 100%|██████████| 79/79 [00:19<00:00,  3.97it/s]\n"
          ]
        },
        {
          "output_type": "stream",
          "name": "stdout",
          "text": [
            "training...........\n"
          ]
        },
        {
          "output_type": "stream",
          "name": "stderr",
          "text": [
            "Train epoch 20, loss: 1.0465, acc: 0.6250: 100%|██████████| 391/391 [02:02<00:00,  3.19it/s]\n"
          ]
        },
        {
          "output_type": "stream",
          "name": "stdout",
          "text": [
            "eval...............\n"
          ]
        },
        {
          "output_type": "stream",
          "name": "stderr",
          "text": [
            "Test epoch 20, loss: 1.0662, acc: 0.6176: 100%|██████████| 79/79 [00:20<00:00,  3.91it/s]\n"
          ]
        },
        {
          "output_type": "stream",
          "name": "stdout",
          "text": [
            "training...........\n"
          ]
        },
        {
          "output_type": "stream",
          "name": "stderr",
          "text": [
            "Train epoch 21, loss: 1.0224, acc: 0.6341: 100%|██████████| 391/391 [02:02<00:00,  3.19it/s]\n"
          ]
        },
        {
          "output_type": "stream",
          "name": "stdout",
          "text": [
            "eval...............\n"
          ]
        },
        {
          "output_type": "stream",
          "name": "stderr",
          "text": [
            "Test epoch 21, loss: 1.3145, acc: 0.5446: 100%|██████████| 79/79 [00:19<00:00,  4.12it/s]\n"
          ]
        },
        {
          "output_type": "stream",
          "name": "stdout",
          "text": [
            "training...........\n"
          ]
        },
        {
          "output_type": "stream",
          "name": "stderr",
          "text": [
            "Train epoch 22, loss: 1.0048, acc: 0.6421: 100%|██████████| 391/391 [02:01<00:00,  3.22it/s]\n"
          ]
        },
        {
          "output_type": "stream",
          "name": "stdout",
          "text": [
            "eval...............\n"
          ]
        },
        {
          "output_type": "stream",
          "name": "stderr",
          "text": [
            "Test epoch 22, loss: 1.0248, acc: 0.6333: 100%|██████████| 79/79 [00:19<00:00,  3.96it/s]\n"
          ]
        },
        {
          "output_type": "stream",
          "name": "stdout",
          "text": [
            "training...........\n"
          ]
        },
        {
          "output_type": "stream",
          "name": "stderr",
          "text": [
            "Train epoch 23, loss: 0.9892, acc: 0.6450: 100%|██████████| 391/391 [02:03<00:00,  3.17it/s]\n"
          ]
        },
        {
          "output_type": "stream",
          "name": "stdout",
          "text": [
            "eval...............\n"
          ]
        },
        {
          "output_type": "stream",
          "name": "stderr",
          "text": [
            "Test epoch 23, loss: 1.0931, acc: 0.6112: 100%|██████████| 79/79 [00:19<00:00,  3.99it/s]\n"
          ]
        },
        {
          "output_type": "stream",
          "name": "stdout",
          "text": [
            "training...........\n"
          ]
        },
        {
          "output_type": "stream",
          "name": "stderr",
          "text": [
            "Train epoch 24, loss: 0.9665, acc: 0.6561: 100%|██████████| 391/391 [02:02<00:00,  3.19it/s]\n"
          ]
        },
        {
          "output_type": "stream",
          "name": "stdout",
          "text": [
            "eval...............\n"
          ]
        },
        {
          "output_type": "stream",
          "name": "stderr",
          "text": [
            "Test epoch 24, loss: 1.1626, acc: 0.5837: 100%|██████████| 79/79 [00:19<00:00,  3.97it/s]\n"
          ]
        },
        {
          "output_type": "stream",
          "name": "stdout",
          "text": [
            "training...........\n"
          ]
        },
        {
          "output_type": "stream",
          "name": "stderr",
          "text": [
            "Train epoch 25, loss: 0.9526, acc: 0.6611: 100%|██████████| 391/391 [02:01<00:00,  3.21it/s]\n"
          ]
        },
        {
          "output_type": "stream",
          "name": "stdout",
          "text": [
            "eval...............\n"
          ]
        },
        {
          "output_type": "stream",
          "name": "stderr",
          "text": [
            "Test epoch 25, loss: 0.9861, acc: 0.6491: 100%|██████████| 79/79 [00:20<00:00,  3.95it/s]\n"
          ]
        },
        {
          "output_type": "stream",
          "name": "stdout",
          "text": [
            "training...........\n"
          ]
        },
        {
          "output_type": "stream",
          "name": "stderr",
          "text": [
            "Train epoch 26, loss: 0.9328, acc: 0.6683: 100%|██████████| 391/391 [02:03<00:00,  3.16it/s]\n"
          ]
        },
        {
          "output_type": "stream",
          "name": "stdout",
          "text": [
            "eval...............\n"
          ]
        },
        {
          "output_type": "stream",
          "name": "stderr",
          "text": [
            "Test epoch 26, loss: 1.0361, acc: 0.6376: 100%|██████████| 79/79 [00:20<00:00,  3.90it/s]\n"
          ]
        },
        {
          "output_type": "stream",
          "name": "stdout",
          "text": [
            "training...........\n"
          ]
        },
        {
          "output_type": "stream",
          "name": "stderr",
          "text": [
            "Train epoch 27, loss: 0.9144, acc: 0.6765: 100%|██████████| 391/391 [02:03<00:00,  3.17it/s]\n"
          ]
        },
        {
          "output_type": "stream",
          "name": "stdout",
          "text": [
            "eval...............\n"
          ]
        },
        {
          "output_type": "stream",
          "name": "stderr",
          "text": [
            "Test epoch 27, loss: 0.9730, acc: 0.6551: 100%|██████████| 79/79 [00:19<00:00,  4.01it/s]\n"
          ]
        },
        {
          "output_type": "stream",
          "name": "stdout",
          "text": [
            "training...........\n"
          ]
        },
        {
          "output_type": "stream",
          "name": "stderr",
          "text": [
            "Train epoch 28, loss: 0.8962, acc: 0.6825: 100%|██████████| 391/391 [02:03<00:00,  3.16it/s]\n"
          ]
        },
        {
          "output_type": "stream",
          "name": "stdout",
          "text": [
            "eval...............\n"
          ]
        },
        {
          "output_type": "stream",
          "name": "stderr",
          "text": [
            "Test epoch 28, loss: 0.9129, acc: 0.6793: 100%|██████████| 79/79 [00:20<00:00,  3.87it/s]\n"
          ]
        },
        {
          "output_type": "stream",
          "name": "stdout",
          "text": [
            "training...........\n"
          ]
        },
        {
          "output_type": "stream",
          "name": "stderr",
          "text": [
            "Train epoch 29, loss: 0.8812, acc: 0.6903: 100%|██████████| 391/391 [02:03<00:00,  3.18it/s]\n"
          ]
        },
        {
          "output_type": "stream",
          "name": "stdout",
          "text": [
            "eval...............\n"
          ]
        },
        {
          "output_type": "stream",
          "name": "stderr",
          "text": [
            "Test epoch 29, loss: 0.8968, acc: 0.6872: 100%|██████████| 79/79 [00:19<00:00,  4.00it/s]\n"
          ]
        },
        {
          "output_type": "stream",
          "name": "stdout",
          "text": [
            "training...........\n"
          ]
        },
        {
          "output_type": "stream",
          "name": "stderr",
          "text": [
            "Train epoch 30, loss: 0.8714, acc: 0.6921: 100%|██████████| 391/391 [02:02<00:00,  3.20it/s]\n"
          ]
        },
        {
          "output_type": "stream",
          "name": "stdout",
          "text": [
            "eval...............\n"
          ]
        },
        {
          "output_type": "stream",
          "name": "stderr",
          "text": [
            "Test epoch 30, loss: 0.8748, acc: 0.6864: 100%|██████████| 79/79 [00:20<00:00,  3.95it/s]\n"
          ]
        },
        {
          "output_type": "stream",
          "name": "stdout",
          "text": [
            "training...........\n"
          ]
        },
        {
          "output_type": "stream",
          "name": "stderr",
          "text": [
            "Train epoch 31, loss: 0.8561, acc: 0.6950: 100%|██████████| 391/391 [02:04<00:00,  3.15it/s]\n"
          ]
        },
        {
          "output_type": "stream",
          "name": "stdout",
          "text": [
            "eval...............\n"
          ]
        },
        {
          "output_type": "stream",
          "name": "stderr",
          "text": [
            "Test epoch 31, loss: 0.8473, acc: 0.7020: 100%|██████████| 79/79 [00:19<00:00,  4.01it/s]\n"
          ]
        },
        {
          "output_type": "stream",
          "name": "stdout",
          "text": [
            "training...........\n"
          ]
        },
        {
          "output_type": "stream",
          "name": "stderr",
          "text": [
            "Train epoch 32, loss: 0.8425, acc: 0.7046: 100%|██████████| 391/391 [02:02<00:00,  3.20it/s]\n"
          ]
        },
        {
          "output_type": "stream",
          "name": "stdout",
          "text": [
            "eval...............\n"
          ]
        },
        {
          "output_type": "stream",
          "name": "stderr",
          "text": [
            "Test epoch 32, loss: 0.8453, acc: 0.7033: 100%|██████████| 79/79 [00:19<00:00,  4.08it/s]\n"
          ]
        },
        {
          "output_type": "stream",
          "name": "stdout",
          "text": [
            "training...........\n"
          ]
        },
        {
          "output_type": "stream",
          "name": "stderr",
          "text": [
            "Train epoch 33, loss: 0.8298, acc: 0.7083: 100%|██████████| 391/391 [01:59<00:00,  3.26it/s]\n"
          ]
        },
        {
          "output_type": "stream",
          "name": "stdout",
          "text": [
            "eval...............\n"
          ]
        },
        {
          "output_type": "stream",
          "name": "stderr",
          "text": [
            "Test epoch 33, loss: 0.8318, acc: 0.7111: 100%|██████████| 79/79 [00:19<00:00,  4.02it/s]\n"
          ]
        },
        {
          "output_type": "stream",
          "name": "stdout",
          "text": [
            "training...........\n"
          ]
        },
        {
          "output_type": "stream",
          "name": "stderr",
          "text": [
            "Train epoch 34, loss: 0.8170, acc: 0.7098: 100%|██████████| 391/391 [02:01<00:00,  3.23it/s]\n"
          ]
        },
        {
          "output_type": "stream",
          "name": "stdout",
          "text": [
            "eval...............\n"
          ]
        },
        {
          "output_type": "stream",
          "name": "stderr",
          "text": [
            "Test epoch 34, loss: 0.8239, acc: 0.7069: 100%|██████████| 79/79 [00:19<00:00,  4.12it/s]\n"
          ]
        },
        {
          "output_type": "stream",
          "name": "stdout",
          "text": [
            "training...........\n"
          ]
        },
        {
          "output_type": "stream",
          "name": "stderr",
          "text": [
            "Train epoch 35, loss: 0.7997, acc: 0.7165: 100%|██████████| 391/391 [02:00<00:00,  3.24it/s]\n"
          ]
        },
        {
          "output_type": "stream",
          "name": "stdout",
          "text": [
            "eval...............\n"
          ]
        },
        {
          "output_type": "stream",
          "name": "stderr",
          "text": [
            "Test epoch 35, loss: 0.8075, acc: 0.7163: 100%|██████████| 79/79 [00:19<00:00,  4.00it/s]\n"
          ]
        },
        {
          "output_type": "stream",
          "name": "stdout",
          "text": [
            "training...........\n"
          ]
        },
        {
          "output_type": "stream",
          "name": "stderr",
          "text": [
            "Train epoch 36, loss: 0.7865, acc: 0.7221: 100%|██████████| 391/391 [02:00<00:00,  3.24it/s]\n"
          ]
        },
        {
          "output_type": "stream",
          "name": "stdout",
          "text": [
            "eval...............\n"
          ]
        },
        {
          "output_type": "stream",
          "name": "stderr",
          "text": [
            "Test epoch 36, loss: 0.8201, acc: 0.7171: 100%|██████████| 79/79 [00:19<00:00,  3.97it/s]\n"
          ]
        },
        {
          "output_type": "stream",
          "name": "stdout",
          "text": [
            "training...........\n"
          ]
        },
        {
          "output_type": "stream",
          "name": "stderr",
          "text": [
            "Train epoch 37, loss: 0.7816, acc: 0.7258: 100%|██████████| 391/391 [02:01<00:00,  3.23it/s]\n"
          ]
        },
        {
          "output_type": "stream",
          "name": "stdout",
          "text": [
            "eval...............\n"
          ]
        },
        {
          "output_type": "stream",
          "name": "stderr",
          "text": [
            "Test epoch 37, loss: 0.8217, acc: 0.7143: 100%|██████████| 79/79 [00:18<00:00,  4.22it/s]\n"
          ]
        },
        {
          "output_type": "stream",
          "name": "stdout",
          "text": [
            "training...........\n"
          ]
        },
        {
          "output_type": "stream",
          "name": "stderr",
          "text": [
            "Train epoch 38, loss: 0.7698, acc: 0.7271: 100%|██████████| 391/391 [01:59<00:00,  3.27it/s]\n"
          ]
        },
        {
          "output_type": "stream",
          "name": "stdout",
          "text": [
            "eval...............\n"
          ]
        },
        {
          "output_type": "stream",
          "name": "stderr",
          "text": [
            "Test epoch 38, loss: 0.8043, acc: 0.7213: 100%|██████████| 79/79 [00:19<00:00,  4.04it/s]\n"
          ]
        },
        {
          "output_type": "stream",
          "name": "stdout",
          "text": [
            "training...........\n"
          ]
        },
        {
          "output_type": "stream",
          "name": "stderr",
          "text": [
            "Train epoch 39, loss: 0.7567, acc: 0.7342: 100%|██████████| 391/391 [02:00<00:00,  3.26it/s]\n"
          ]
        },
        {
          "output_type": "stream",
          "name": "stdout",
          "text": [
            "eval...............\n"
          ]
        },
        {
          "output_type": "stream",
          "name": "stderr",
          "text": [
            "Test epoch 39, loss: 0.8217, acc: 0.7158: 100%|██████████| 79/79 [00:19<00:00,  4.06it/s]\n"
          ]
        },
        {
          "output_type": "stream",
          "name": "stdout",
          "text": [
            "training...........\n"
          ]
        },
        {
          "output_type": "stream",
          "name": "stderr",
          "text": [
            "Train epoch 40, loss: 0.7511, acc: 0.7374: 100%|██████████| 391/391 [01:59<00:00,  3.27it/s]\n"
          ]
        },
        {
          "output_type": "stream",
          "name": "stdout",
          "text": [
            "eval...............\n"
          ]
        },
        {
          "output_type": "stream",
          "name": "stderr",
          "text": [
            "Test epoch 40, loss: 0.8495, acc: 0.7095: 100%|██████████| 79/79 [00:19<00:00,  4.05it/s]\n"
          ]
        },
        {
          "output_type": "stream",
          "name": "stdout",
          "text": [
            "training...........\n"
          ]
        },
        {
          "output_type": "stream",
          "name": "stderr",
          "text": [
            "Train epoch 41, loss: 0.7359, acc: 0.7392: 100%|██████████| 391/391 [01:59<00:00,  3.28it/s]\n"
          ]
        },
        {
          "output_type": "stream",
          "name": "stdout",
          "text": [
            "eval...............\n"
          ]
        },
        {
          "output_type": "stream",
          "name": "stderr",
          "text": [
            "Test epoch 41, loss: 0.8879, acc: 0.6951: 100%|██████████| 79/79 [00:19<00:00,  4.13it/s]\n"
          ]
        },
        {
          "output_type": "stream",
          "name": "stdout",
          "text": [
            "training...........\n"
          ]
        },
        {
          "output_type": "stream",
          "name": "stderr",
          "text": [
            "Train epoch 42, loss: 0.7282, acc: 0.7424: 100%|██████████| 391/391 [01:59<00:00,  3.26it/s]\n"
          ]
        },
        {
          "output_type": "stream",
          "name": "stdout",
          "text": [
            "eval...............\n"
          ]
        },
        {
          "output_type": "stream",
          "name": "stderr",
          "text": [
            "Test epoch 42, loss: 0.8531, acc: 0.7052: 100%|██████████| 79/79 [00:19<00:00,  4.05it/s]\n"
          ]
        },
        {
          "output_type": "stream",
          "name": "stdout",
          "text": [
            "training...........\n"
          ]
        },
        {
          "output_type": "stream",
          "name": "stderr",
          "text": [
            "Train epoch 43, loss: 0.7238, acc: 0.7469: 100%|██████████| 391/391 [01:58<00:00,  3.29it/s]\n"
          ]
        },
        {
          "output_type": "stream",
          "name": "stdout",
          "text": [
            "eval...............\n"
          ]
        },
        {
          "output_type": "stream",
          "name": "stderr",
          "text": [
            "Test epoch 43, loss: 0.8221, acc: 0.7149: 100%|██████████| 79/79 [00:19<00:00,  4.10it/s]\n"
          ]
        },
        {
          "output_type": "stream",
          "name": "stdout",
          "text": [
            "training...........\n"
          ]
        },
        {
          "output_type": "stream",
          "name": "stderr",
          "text": [
            "Train epoch 44, loss: 0.7057, acc: 0.7508: 100%|██████████| 391/391 [01:59<00:00,  3.27it/s]\n"
          ]
        },
        {
          "output_type": "stream",
          "name": "stdout",
          "text": [
            "eval...............\n"
          ]
        },
        {
          "output_type": "stream",
          "name": "stderr",
          "text": [
            "Test epoch 44, loss: 0.8650, acc: 0.6986: 100%|██████████| 79/79 [00:18<00:00,  4.18it/s]\n"
          ]
        },
        {
          "output_type": "stream",
          "name": "stdout",
          "text": [
            "training...........\n"
          ]
        },
        {
          "output_type": "stream",
          "name": "stderr",
          "text": [
            "Train epoch 45, loss: 0.7021, acc: 0.7525: 100%|██████████| 391/391 [01:59<00:00,  3.27it/s]\n"
          ]
        },
        {
          "output_type": "stream",
          "name": "stdout",
          "text": [
            "eval...............\n"
          ]
        },
        {
          "output_type": "stream",
          "name": "stderr",
          "text": [
            "Test epoch 45, loss: 0.8203, acc: 0.7153: 100%|██████████| 79/79 [00:19<00:00,  4.14it/s]\n"
          ]
        },
        {
          "output_type": "stream",
          "name": "stdout",
          "text": [
            "training...........\n"
          ]
        },
        {
          "output_type": "stream",
          "name": "stderr",
          "text": [
            "Train epoch 46, loss: 0.6978, acc: 0.7560: 100%|██████████| 391/391 [01:58<00:00,  3.30it/s]\n"
          ]
        },
        {
          "output_type": "stream",
          "name": "stdout",
          "text": [
            "eval...............\n"
          ]
        },
        {
          "output_type": "stream",
          "name": "stderr",
          "text": [
            "Test epoch 46, loss: 0.8061, acc: 0.7178: 100%|██████████| 79/79 [00:19<00:00,  4.09it/s]\n"
          ]
        },
        {
          "output_type": "stream",
          "name": "stdout",
          "text": [
            "training...........\n"
          ]
        },
        {
          "output_type": "stream",
          "name": "stderr",
          "text": [
            "Train epoch 47, loss: 0.6863, acc: 0.7605: 100%|██████████| 391/391 [01:59<00:00,  3.27it/s]\n"
          ]
        },
        {
          "output_type": "stream",
          "name": "stdout",
          "text": [
            "eval...............\n"
          ]
        },
        {
          "output_type": "stream",
          "name": "stderr",
          "text": [
            "Test epoch 47, loss: 0.7499, acc: 0.7352: 100%|██████████| 79/79 [00:19<00:00,  4.04it/s]\n"
          ]
        },
        {
          "output_type": "stream",
          "name": "stdout",
          "text": [
            "training...........\n"
          ]
        },
        {
          "output_type": "stream",
          "name": "stderr",
          "text": [
            "Train epoch 48, loss: 0.6765, acc: 0.7635: 100%|██████████| 391/391 [01:59<00:00,  3.26it/s]\n"
          ]
        },
        {
          "output_type": "stream",
          "name": "stdout",
          "text": [
            "eval...............\n"
          ]
        },
        {
          "output_type": "stream",
          "name": "stderr",
          "text": [
            "Test epoch 48, loss: 0.7646, acc: 0.7320: 100%|██████████| 79/79 [00:18<00:00,  4.18it/s]\n"
          ]
        },
        {
          "output_type": "stream",
          "name": "stdout",
          "text": [
            "training...........\n"
          ]
        },
        {
          "output_type": "stream",
          "name": "stderr",
          "text": [
            "Train epoch 49, loss: 0.6668, acc: 0.7651: 100%|██████████| 391/391 [02:00<00:00,  3.25it/s]\n"
          ]
        },
        {
          "output_type": "stream",
          "name": "stdout",
          "text": [
            "eval...............\n"
          ]
        },
        {
          "output_type": "stream",
          "name": "stderr",
          "text": [
            "Test epoch 49, loss: 0.7359, acc: 0.7454: 100%|██████████| 79/79 [00:19<00:00,  3.99it/s]\n"
          ]
        },
        {
          "output_type": "stream",
          "name": "stdout",
          "text": [
            "training...........\n"
          ]
        },
        {
          "output_type": "stream",
          "name": "stderr",
          "text": [
            "Train epoch 50, loss: 0.6564, acc: 0.7680: 100%|██████████| 391/391 [02:00<00:00,  3.25it/s]\n"
          ]
        },
        {
          "output_type": "stream",
          "name": "stdout",
          "text": [
            "eval...............\n"
          ]
        },
        {
          "output_type": "stream",
          "name": "stderr",
          "text": [
            "Test epoch 50, loss: 0.7052, acc: 0.7524: 100%|██████████| 79/79 [00:19<00:00,  3.99it/s]\n"
          ]
        },
        {
          "output_type": "display_data",
          "data": {
            "text/plain": [
              "<Figure size 640x480 with 1 Axes>"
            ],
            "image/png": "[encoded data removed]"
          },
          "metadata": {}
        },
        {
          "output_type": "display_data",
          "data": {
            "text/plain": [
              "<Figure size 640x480 with 1 Axes>"
            ],
            "image/png": "[encoded data removed]"
          },
          "metadata": {}
        }
      ],
      "source": [
        "###########  Do not modify this cell ###########################\n",
        "# ===============================================================\n",
        "\n",
        "train_losses, train_accuracies, test_losses, test_accuracies = finetune()\n",
        "\n",
        "plt.plot(train_losses, label='train loss')  # simply visualize the training loss\n",
        "plt.plot(test_losses, label='test loss')\n",
        "plt.legend()\n",
        "plt.show()\n",
        "\n",
        "plt.plot(train_accuracies, label='train accuracy')  # simply visualize the training loss\n",
        "plt.plot(test_accuracies, label='test accuracy')\n",
        "plt.legend()\n",
        "plt.show()"
      ]
    },
    {
      "cell_type": "markdown",
      "source": [
        "**Explanation**\n",
        "\n",
        "For the SIMCLR model, the following hyperparameters and data augmentation was used:\n",
        "\n",
        "Hyperparameters:\n",
        "\n",
        "batch_size = 128\n",
        "projection_dim = 128\n",
        "learning_rate =  0.001\n",
        "momentum = 0.9\n",
        "weight_decay = 0.0001\n",
        "epochs = 3\n",
        "optimizer = Optim.SGD\n",
        "scheduler = StepLR\n",
        "\n",
        "Data Augmentation:\n",
        "\n",
        "RandomCrop(size=32, padding=4, padding_mode='reflect')\n",
        "ColorJitter (brightness=0.4, contrast=0.4, saturation=0.4, hue=0.1)\n",
        "RandomHorizontalFlip\n",
        "RandomApply([transforms.GaussianBlur(kernel_size=3)], p=0.5)\n",
        "\n",
        "\n",
        "For the LinLayer, the following hyperparameters and data augmentation was used:\n",
        "\n",
        "Hyperparameters:\n",
        "\n",
        "batch_size = 128\n",
        "projection_dim = 128\n",
        "learning_rate =  0.001\n",
        "momentum = 0.9\n",
        "weight_decay = 0.0001\n",
        "epochs = 50\n",
        "optimizer = Optim.SGD\n",
        "scheduler = CosineAneahilingLR\n",
        "\n",
        "Data Augmentation:\n",
        "\n",
        "RandomCrop(size=32, padding=4, padding_mode='reflect')\n",
        "ColorJitter (brightness=0.4, contrast=0.4, saturation=0.4, hue=0.1)\n",
        "RandomHorizontalFlip\n",
        "RandomApply([transforms.GaussianBlur(kernel_size=3)], p=0.5)\n",
        "\n",
        "\n",
        "The final accuracy was found to be 75.24% and the loss was 0.7 for the test set.\n"
      ],
      "metadata": {
        "id": "GR_BKvylYDnM"
      }
    },
    {
      "cell_type": "code",
      "source": [],
      "metadata": {
        "id": "h7k1Qve0ZFL1"
      },
      "execution_count": null,
      "outputs": []
    }
  ],
  "metadata": {
    "accelerator": "GPU",
    "colab": {
      "gpuType": "T4",
      "provenance": []
    },
    "kernelspec": {
      "display_name": "Python 3",
      "name": "python3"
    },
    "language_info": {
      "codemirror_mode": {
        "name": "ipython",
        "version": 3
      },
      "file_extension": ".py",
      "mimetype": "text/x-python",
      "name": "python",
      "nbconvert_exporter": "python",
      "pygments_lexer": "ipython3",
      "version": "3.11.7"
    }
  },
  "nbformat": 4,
  "nbformat_minor": 0
}