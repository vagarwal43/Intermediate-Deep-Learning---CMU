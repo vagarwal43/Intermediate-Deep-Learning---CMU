{
  "cells": [
    {
      "cell_type": "code",
      "execution_count": 1,
      "metadata": {
        "id": "2u7evJ4kLnZZ"
      },
      "outputs": [],
      "source": [
        "# these are some necessary libs, but feel free to import whatever you need\n",
        "import torch\n",
        "import torch.nn as nn\n",
        "import torch.nn.functional as F\n",
        "import numpy as np\n",
        "from matplotlib import pyplot as plt\n",
        "import math"
      ]
    },
    {
      "cell_type": "code",
      "source": [
        "from google.colab import drive\n",
        "drive.mount('/content/drive')"
      ],
      "metadata": {
        "colab": {
          "base_uri": "https://localhost:8080/"
        },
        "id": "FKQDdnwQLogH",
        "outputId": "6adc22ff-7f3d-4358-998b-ba5519f73406"
      },
      "execution_count": 2,
      "outputs": [
        {
          "output_type": "stream",
          "name": "stdout",
          "text": [
            "Mounted at /content/drive\n"
          ]
        }
      ]
    },
    {
      "cell_type": "code",
      "source": [
        "!ls \"/content/drive/MyDrive/Colab Notebooks\""
      ],
      "metadata": {
        "colab": {
          "base_uri": "https://localhost:8080/"
        },
        "id": "y_dDTo0eL5xl",
        "outputId": "400c6089-18cb-4d2e-8f06-fe100bacdabc"
      },
      "execution_count": 3,
      "outputs": [
        {
          "output_type": "stream",
          "name": "stdout",
          "text": [
            "24789_HW3.zip\t     burgers_test.npy\tHW4_24788_Spring_24_Final.ipynb  pde_gpt.ipynb\tunet.py\n",
            "24789-HW4-S24-1.zip  burgers_train.npy\tMNIST_Diffusion.ipynb\t\t __pycache__\n"
          ]
        }
      ]
    },
    {
      "cell_type": "code",
      "source": [
        "!unzip -q \"/content/drive/MyDrive/Colab Notebooks/24789-HW4-S24-1.zip\""
      ],
      "metadata": {
        "id": "KjpX9s8hL7FJ"
      },
      "execution_count": 4,
      "outputs": []
    },
    {
      "cell_type": "code",
      "execution_count": 5,
      "metadata": {
        "id": "caOyX2UMLnZc"
      },
      "outputs": [],
      "source": [
        "### don't change this\n",
        "### seed everything for reproducibility\n",
        "def seed_everything():\n",
        "    seed = 42\n",
        "    np.random.seed(seed)\n",
        "    torch.manual_seed(seed)\n",
        "    torch.cuda.manual_seed(seed)"
      ]
    },
    {
      "cell_type": "markdown",
      "metadata": {
        "id": "rWRCBOe9LnZd"
      },
      "source": [
        "# 2. Prepare for the Transformer"
      ]
    },
    {
      "cell_type": "markdown",
      "metadata": {
        "id": "i2VGi_h7LnZe"
      },
      "source": [
        "### 2(a) Implement a scaled dot product"
      ]
    },
    {
      "cell_type": "code",
      "execution_count": 6,
      "metadata": {
        "id": "q0lEu56uLnZe"
      },
      "outputs": [],
      "source": [
        "def scaled_dot_product(q, k, v):\n",
        "    d_k = q.size()[-1]\n",
        "\n",
        "    # TODO: put your code below\n",
        "    # values should be the final output\n",
        "    # attention should be the n by n attention matrix (the dot product after softmax)\n",
        "\n",
        "    out = torch.matmul(q, k.transpose(-2, -1)) / torch.sqrt(torch.tensor(d_k).float())\n",
        "    attention = F.softmax(out, dim=1)\n",
        "    values = torch.matmul(attention, v)\n",
        "\n",
        "    #========================#\n",
        "    return values, attention"
      ]
    },
    {
      "cell_type": "code",
      "execution_count": 7,
      "metadata": {
        "colab": {
          "base_uri": "https://localhost:8080/"
        },
        "id": "4XsWL8fXLnZf",
        "outputId": "89e6c3d5-bbe3-48c4-8847-fa343bb4702c"
      },
      "outputs": [
        {
          "output_type": "stream",
          "name": "stdout",
          "text": [
            "Q\n",
            " tensor([[ 0.3367,  0.1288],\n",
            "        [ 0.2345,  0.2303],\n",
            "        [-1.1229, -0.1863]])\n",
            "K\n",
            " tensor([[ 2.2082, -0.6380],\n",
            "        [ 0.4617,  0.2674],\n",
            "        [ 0.5349,  0.8094]])\n",
            "V\n",
            " tensor([[ 1.1103, -1.6898],\n",
            "        [-0.9890,  0.9580],\n",
            "        [ 1.3221,  0.8172]])\n",
            "Values\n",
            " tensor([[ 0.5698, -0.1520],\n",
            "        [ 0.5379, -0.0265],\n",
            "        [ 0.2246,  0.5556]])\n",
            "Attention\n",
            " tensor([[0.4028, 0.2886, 0.3086],\n",
            "        [0.3538, 0.3069, 0.3393],\n",
            "        [0.1303, 0.4630, 0.4067]])\n"
          ]
        }
      ],
      "source": [
        "### set what you get\n",
        "### do not modify this cell\n",
        "seed_everything()\n",
        "seq_len, d_k = 3, 2\n",
        "q = torch.randn(seq_len, d_k)\n",
        "k = torch.randn(seq_len, d_k)\n",
        "v = torch.randn(seq_len, d_k)\n",
        "values, attention = scaled_dot_product(q, k, v)\n",
        "print(\"Q\\n\", q)\n",
        "print(\"K\\n\", k)\n",
        "print(\"V\\n\", v)\n",
        "print(\"Values\\n\", values)\n",
        "print(\"Attention\\n\", attention)\n",
        "assert attention.shape == (seq_len, seq_len)"
      ]
    },
    {
      "cell_type": "markdown",
      "metadata": {
        "id": "HKIJOD3JLnZg"
      },
      "source": [
        "### 2(b) Try masked scaled-dot product"
      ]
    },
    {
      "cell_type": "code",
      "execution_count": 8,
      "metadata": {
        "id": "3ixr4OS5LnZg"
      },
      "outputs": [],
      "source": [
        "def masked_scaled_dot_product(q, k, v, mask):\n",
        "    # the mask will be in shape n by n, it indicates the interaction between specific pair of tokens need not be considered\n",
        "    d_k = q.size()[-1]\n",
        "\n",
        "    # TODO: put your code below\n",
        "    # values should be the final output\n",
        "    # attention should be the n by n attention matrix (the dot product after softmax)\n",
        "\n",
        "    out = torch.matmul(q, k.transpose(-2, -1)) / torch.sqrt(torch.tensor(d_k).float())\n",
        "    out = out.masked_fill(mask == 0, float('-inf'))\n",
        "    attention = F.softmax(out, dim=1)\n",
        "    values = torch.matmul(attention, v)\n",
        "\n",
        "    #========================#\n",
        "    return values, attention"
      ]
    },
    {
      "cell_type": "code",
      "execution_count": 9,
      "metadata": {
        "colab": {
          "base_uri": "https://localhost:8080/"
        },
        "id": "NgdGUbezLnZh",
        "outputId": "a85d031c-0bf8-46e9-acbf-ded8d0789023"
      },
      "outputs": [
        {
          "output_type": "stream",
          "name": "stdout",
          "text": [
            "Q\n",
            " tensor([[ 0.3367,  0.1288],\n",
            "        [ 0.2345,  0.2303],\n",
            "        [-1.1229, -0.1863]])\n",
            "K\n",
            " tensor([[ 2.2082, -0.6380],\n",
            "        [ 0.4617,  0.2674],\n",
            "        [ 0.5349,  0.8094]])\n",
            "V\n",
            " tensor([[ 1.1103, -1.6898],\n",
            "        [-0.9890,  0.9580],\n",
            "        [ 1.3221,  0.8172]])\n",
            "Values\n",
            " tensor([[0.2052, 0.8852],\n",
            "        [1.3221, 0.8172],\n",
            "        [   nan,    nan]])\n",
            "Attention\n",
            " tensor([[0.0000, 0.4833, 0.5167],\n",
            "        [0.0000, 0.0000, 1.0000],\n",
            "        [   nan,    nan,    nan]])\n"
          ]
        }
      ],
      "source": [
        "### set what you get\n",
        "### do not modify this cell\n",
        "seed_everything()\n",
        "seq_len, d_k = 3, 2\n",
        "# create a low triangular mask\n",
        "# looks like this\n",
        "# 1 0 0\n",
        "# 1 1 0\n",
        "# 1 1 1\n",
        "# this will also be helpful for masked attention in the decoder\n",
        "mask = torch.tril(torch.ones(seq_len, seq_len)) == 0\n",
        "q = torch.randn(seq_len, d_k)\n",
        "k = torch.randn(seq_len, d_k)\n",
        "v = torch.randn(seq_len, d_k)\n",
        "values, attention = masked_scaled_dot_product(q, k, v, mask)\n",
        "print(\"Q\\n\", q)\n",
        "print(\"K\\n\", k)\n",
        "print(\"V\\n\", v)\n",
        "print(\"Values\\n\", values)\n",
        "print(\"Attention\\n\", attention)"
      ]
    },
    {
      "cell_type": "markdown",
      "metadata": {
        "id": "Ixt270ioLnZh"
      },
      "source": [
        "### 2(c) Positional encoding (from original Transformer)"
      ]
    },
    {
      "cell_type": "code",
      "execution_count": 27,
      "metadata": {
        "id": "_yYOXXjiLnZh"
      },
      "outputs": [],
      "source": [
        "class PositionalEncoding(nn.Module):\n",
        "\n",
        "    def __init__(self, d_model, max_len=5000):\n",
        "        \"\"\"\n",
        "        Inputs\n",
        "            d_model - Hidden dimensionality of the input.\n",
        "            max_len - Maximum length of a sequence to expect.\n",
        "        \"\"\"\n",
        "        super().__init__()\n",
        "\n",
        "        # Create matrix of [SeqLen, HiddenDim] representing the positional encoding for max_len inputs\n",
        "        pe = torch.zeros(max_len, d_model)\n",
        "\n",
        "        # ==================================== #\n",
        "        # TODO: put your code below\n",
        "\n",
        "        position = torch.arange(0, max_len, dtype=torch.float32).unsqueeze(1)\n",
        "        div_term = torch.exp(torch.arange(0, d_model, 2, dtype=torch.float32) * (-math.log(10000.0) / d_model))\n",
        "\n",
        "        pe[:, 0::2] = torch.sin(position * div_term)\n",
        "        pe[:, 1::2] = torch.cos(position * div_term)\n",
        "\n",
        "        # ==================================== #\n",
        "        # register_buffer => Tensor which is not a parameter, but should be part of the modules state.\n",
        "        # Used for tensors that need to be on the same device as the module.\n",
        "        # persistent=False tells PyTorch to not add the buffer to the state dict (e.g. when we save the model)\n",
        "        self.register_buffer('pe', pe, persistent=False)\n",
        "\n",
        "    def forward(self, x):\n",
        "        pe = self.pe[:x.size(1), :]\n",
        "\n",
        "        #TODO: put your code below\n",
        "        # print(x.shape)\n",
        "        # print(pe.shape)\n",
        "        x = x+pe\n",
        "\n",
        "        return x"
      ]
    },
    {
      "cell_type": "code",
      "execution_count": 25,
      "metadata": {
        "colab": {
          "base_uri": "https://localhost:8080/",
          "height": 459
        },
        "id": "2t3Hq-Q-LnZh",
        "outputId": "e98ce0c7-4a54-4c28-af72-fb2f029891a2"
      },
      "outputs": [
        {
          "output_type": "display_data",
          "data": {
            "text/plain": [
              "<Figure size 1200x500 with 2 Axes>"
            ],
            "image/png": "[encoded data removed]"
          },
          "metadata": {}
        }
      ],
      "source": [
        "### visualize the positional encoding and see what you get, do not modify this\n",
        "\n",
        "pe_block = PositionalEncoding(d_model=48, max_len=100)\n",
        "pe = pe_block.pe.squeeze().T.cpu().numpy()\n",
        "\n",
        "fig, ax = plt.subplots(nrows=1, ncols=1, figsize=(12,5))\n",
        "pos = ax.imshow(pe, cmap=\"RdGy\", extent=(1,pe.shape[1]+1,pe.shape[0]+1,1))\n",
        "fig.colorbar(pos, ax=ax)\n",
        "ax.set_xlabel(\"Position in sequence\")\n",
        "ax.set_ylabel(\"Hidden dimension\")\n",
        "ax.set_title(\"Positional encoding over hidden dimensions\")\n",
        "ax.set_xticks([1]+[i*10 for i in range(1,1+pe.shape[1]//10)])\n",
        "ax.set_yticks([1]+[i*10 for i in range(1,1+pe.shape[0]//10)])\n",
        "plt.show()"
      ]
    },
    {
      "cell_type": "markdown",
      "metadata": {
        "id": "fmUwo2gxLnZi"
      },
      "source": [
        "# 3. Build your own \"GPT\" for 1D Burgers' prediction"
      ]
    },
    {
      "cell_type": "code",
      "execution_count": 12,
      "metadata": {
        "colab": {
          "base_uri": "https://localhost:8080/"
        },
        "id": "R-8d2_F0LnZi",
        "outputId": "8e41e319-118b-421a-8016-9bc7b8a593d1"
      },
      "outputs": [
        {
          "output_type": "stream",
          "name": "stdout",
          "text": [
            "(2048, 40, 100) (128, 40, 100)\n"
          ]
        }
      ],
      "source": [
        "### load data, modify this when you have a different path\n",
        "train_data = np.load('/content/drive/MyDrive/Colab Notebooks/burgers_train.npy')\n",
        "test_data = np.load('/content/drive/MyDrive/Colab Notebooks/burgers_test.npy')\n",
        "print(train_data.shape, test_data.shape)"
      ]
    },
    {
      "cell_type": "markdown",
      "metadata": {
        "id": "Hl_cVDTLLnZi"
      },
      "source": [
        "### Visualize a sequence (optional)"
      ]
    },
    {
      "cell_type": "code",
      "execution_count": 13,
      "metadata": {
        "id": "9aCXjyZKLnZi"
      },
      "outputs": [],
      "source": [
        "### You don't have to modify this function\n",
        "from matplotlib.ticker import FormatStrFormatter\n",
        "\n",
        "def show_field(field):\n",
        "\n",
        "    fig, ax = plt.subplots(figsize=(15, 5))\n",
        "    # mark y axis as time, x axis as space\n",
        "    ax.set_xlabel('x',fontsize=16)\n",
        "    ax.set_ylabel('t', fontsize=16)\n",
        "    ax.set_xlim(0, 50+1e-5)\n",
        "\n",
        "    ax.set_yticks(np.arange(0, 41, 10), [str(round(f, 2)) for f in np.linspace(0, 1.28, 5)][::-1])\n",
        "    ax.set_xticks(np.arange(0, 101, 10),[str(round(f, 2)) for f in np.linspace(0, 16, 11)])\n",
        "\n",
        "    im = ax.imshow(field,cmap='seismic')\n",
        "    plt.colorbar(im)\n",
        "\n",
        "    plt.show()"
      ]
    },
    {
      "cell_type": "code",
      "execution_count": 14,
      "metadata": {
        "colab": {
          "base_uri": "https://localhost:8080/",
          "height": 464
        },
        "id": "bDMkYNrHLnZi",
        "outputId": "ee276988-7c52-47ab-a2bc-e6dbe69141bb"
      },
      "outputs": [
        {
          "output_type": "display_data",
          "data": {
            "text/plain": [
              "<Figure size 1500x500 with 2 Axes>"
            ],
            "image/png": "[encoded data removed]"
          },
          "metadata": {}
        }
      ],
      "source": [
        "show_field(train_data[0])"
      ]
    },
    {
      "cell_type": "code",
      "execution_count": 15,
      "metadata": {
        "colab": {
          "base_uri": "https://localhost:8080/",
          "height": 472
        },
        "id": "bswfTyGMLnZj",
        "outputId": "2f7ae1de-e500-4640-84e4-c1cb9c94c5c2"
      },
      "outputs": [
        {
          "output_type": "execute_result",
          "data": {
            "text/plain": [
              "Text(0, 0.5, 'u')"
            ]
          },
          "metadata": {},
          "execution_count": 15
        },
        {
          "output_type": "display_data",
          "data": {
            "text/plain": [
              "<Figure size 640x480 with 1 Axes>"
            ],
            "image/png": "[encoded data removed]"
          },
          "metadata": {}
        }
      ],
      "source": [
        "# take a look at one of the snapshots\n",
        "plt.plot(np.linspace(0, 16, 100), train_data[0, 20])\n",
        "plt.gca().set_xlabel('x',fontsize=16)\n",
        "plt.gca().set_ylabel('u', fontsize=16)"
      ]
    },
    {
      "cell_type": "markdown",
      "metadata": {
        "id": "AKBC9JBzLnZj"
      },
      "source": [
        "#### Helper functions (do not modify!)"
      ]
    },
    {
      "cell_type": "code",
      "execution_count": 16,
      "metadata": {
        "id": "81JDIBaBLnZj"
      },
      "outputs": [],
      "source": [
        "### do not modify this cell\n",
        "### ======================\n",
        "class SimpleEncoder(nn.Module):\n",
        "    # for embedding the first 10 time steps of darcy flow\n",
        "    def __init__(self,\n",
        "                 input_dim=100,    # we take number of grid points as number of feature for each frame\n",
        "                 hidden_dim=64,   # hidden dimensionality of the encoder\n",
        "                 emb_dim=128):\n",
        "        super().__init__()\n",
        "        # we use 1d depth-wise convolution to embed the input\n",
        "        self.net = nn.Sequential(\n",
        "            nn.Conv1d(input_dim, hidden_dim, kernel_size=1, stride=1, padding=0, groups=4),\n",
        "            nn.GELU(),   # GELU is a better version of ReLU, for most tasks\n",
        "            nn.Conv1d(hidden_dim, hidden_dim, kernel_size=1, stride=1, padding=0, groups=8),\n",
        "            nn.GELU(),\n",
        "            nn.Conv1d(hidden_dim, hidden_dim, kernel_size=1, stride=1, padding=0, groups=4),\n",
        "            nn.GELU(),\n",
        "            nn.Conv1d(hidden_dim, hidden_dim, kernel_size=1, stride=1, padding=0),\n",
        "            nn.GELU(),\n",
        "            nn.Conv1d(hidden_dim, emb_dim, kernel_size=1, stride=1, padding=0))\n",
        "\n",
        "        self.to_out = nn.Sequential(\n",
        "            nn.LayerNorm(emb_dim),\n",
        "            nn.Linear(emb_dim, emb_dim),\n",
        "        )\n",
        "\n",
        "    def forward(self, x):\n",
        "        # x will be in shape [b t n], n is number of grid points, but you can think it as feature dimension\n",
        "        # we need to transpose it to [b n t] for the convolution\n",
        "        x = x.transpose(1, 2)\n",
        "        # now we can apply the convolution\n",
        "        x = self.net(x)\n",
        "        x = x.transpose(1, 2)\n",
        "        return self.to_out(x)\n",
        "\n",
        "\n",
        "class SimpleDecoder(nn.Module):\n",
        "    # go back from the latent space to the physical space\n",
        "    def __init__(self,\n",
        "                 input_dim=128,     # latent dimensionality\n",
        "                 hidden_dim=64,   # hidden dimensionality of the decoder\n",
        "                 output_dim=100):\n",
        "        super().__init__()\n",
        "        self.ln = nn.LayerNorm(input_dim)\n",
        "        self.net = nn.Sequential(\n",
        "            nn.Conv1d(input_dim, hidden_dim, kernel_size=1, stride=1, padding=0),\n",
        "            nn.GELU(),\n",
        "            nn.Conv1d(hidden_dim, hidden_dim, kernel_size=1, stride=1, padding=0, groups=4),\n",
        "            nn.GELU(),\n",
        "            nn.Conv1d(hidden_dim, output_dim, kernel_size=1, stride=1, padding=0, groups=2),\n",
        "        )\n",
        "\n",
        "    def forward(self, x):\n",
        "        # x will be in shape [b t c]\n",
        "        x = self.ln(x)\n",
        "        x = x.transpose(1, 2)\n",
        "        x =  self.net(x).transpose(1, 2)  # [b t c] again\n",
        "        return x\n",
        "\n",
        "\n",
        "\n",
        "class FFN(nn.Module):\n",
        "    # give to you for free, need to be used in the transformer\n",
        "    def __init__(self, input_dim=128, hidden_dim=128, output_dim=128):\n",
        "        super().__init__()\n",
        "        self.net = nn.Sequential(\n",
        "            nn.LayerNorm(input_dim),\n",
        "            nn.Linear(input_dim, hidden_dim),\n",
        "            nn.GELU(),\n",
        "            nn.Linear(hidden_dim, output_dim),\n",
        "        )\n",
        "\n",
        "    def forward(self, x):\n",
        "        return self.net(x)"
      ]
    },
    {
      "cell_type": "markdown",
      "metadata": {
        "id": "pxXY0qMXLnZj"
      },
      "source": [
        "### Implement a multi-head self-attention module (with causal mask)"
      ]
    },
    {
      "cell_type": "code",
      "execution_count": 17,
      "metadata": {
        "id": "YM9y3NYpLnZj"
      },
      "outputs": [],
      "source": [
        "# you need to implement this\n",
        "class CausalSelfAttention(nn.Module):\n",
        "\n",
        "    def __init__(self,\n",
        "                 dim,\n",
        "                 dim_head,\n",
        "                 num_heads,\n",
        "                 dropout,       # dropout for attention matrix (Q^T K), not input or output\n",
        "                 max_len=50\n",
        "                 ):\n",
        "        super().__init__()\n",
        "        self.dim = dim\n",
        "        self.inner_dim = dim_head * num_heads\n",
        "        self.num_heads = num_heads\n",
        "        self.dim_head = dim_head\n",
        "\n",
        "        # ==================================================================\n",
        "        #TODO: implement the module of the causal self attention\n",
        "\n",
        "        self.query = nn.Linear(dim,self.inner_dim)\n",
        "        self.key = nn.Linear(dim,self.inner_dim)\n",
        "        self.value = nn.Linear(dim,self.inner_dim)\n",
        "\n",
        "        self.dropout = nn.Dropout(dropout)\n",
        "        self.out = nn.Linear(self.inner_dim,dim)\n",
        "\n",
        "        # ==================================================================\n",
        "        self._init_weights()\n",
        "\n",
        "    def _init_weights(self):\n",
        "        # you can implement some weight initialization here (optional), can provide some performance boost when doing it correctly\n",
        "        pass\n",
        "\n",
        "    def forward(self, x):\n",
        "        # input is in shape [b t c], output is also in shape [b t c]\n",
        "        B, L, C = x.size() # batch size, sequence length, embedding dimensionality (n_embd)\n",
        "\n",
        "        # ==================================================================\n",
        "        #TODO: implement the forward pass of the causal self attention\n",
        "\n",
        "        queries = self.query(x).view(B, L, self.num_heads, self.dim_head).transpose(1, 2)  # [B, num_heads, L, dim_head]\n",
        "        keys = self.key(x).view(B, L, self.num_heads, self.dim_head).transpose(1, 2)  # [B, num_heads, L, dim_head]\n",
        "        values = self.value(x).view(B, L, self.num_heads, self.dim_head).transpose(1, 2)  # [B, num_heads, L, dim_head]\n",
        "\n",
        "        scores = torch.matmul(queries, keys.transpose(-2, -1)) / torch.sqrt(torch.tensor(self.dim_head).float())  # [B, num_heads, L, L]\n",
        "\n",
        "        # Apply causal mask\n",
        "        causal_mask = torch.tril(torch.ones(L, L)).view(1, 1, L, L).to(scores.device)\n",
        "        scores = scores.masked_fill(causal_mask == 0, float('-inf'))\n",
        "\n",
        "        # Apply softmax to get attention weights\n",
        "        attention_weights = F.softmax(scores, dim=-1)  # [B, num_heads, L, L]\n",
        "\n",
        "        # Apply dropout\n",
        "        attention_weights = self.dropout(attention_weights)\n",
        "\n",
        "        # Weighted sum of values\n",
        "        attention_output = torch.matmul(attention_weights, values)  # [B, num_heads, L, dim_head]\n",
        "\n",
        "        # Concatenate attention outputs from all heads and project back to the original dimension\n",
        "        attention_output = attention_output.transpose(1, 2).contiguous().view(B, L, self.inner_dim)\n",
        "        output = self.out(attention_output)  # [B, L, dim]\n",
        "\n",
        "        return output"
      ]
    },
    {
      "cell_type": "markdown",
      "metadata": {
        "id": "ti7Wzm5LLnZj"
      },
      "source": [
        "### Use above attention block to build a PDE-GPT"
      ]
    },
    {
      "cell_type": "code",
      "execution_count": 18,
      "metadata": {
        "id": "2vFN9Z-jLnZk"
      },
      "outputs": [],
      "source": [
        "### you only have to fill a small part inside the forward function\n",
        "class PDEGPT(nn.Module):\n",
        "    def __init__(self,\n",
        "                 num_layers,    # the only hyperparameter to play with, could start with sth like 6\n",
        "                 ):\n",
        "        super().__init__()\n",
        "\n",
        "        self.transformer = nn.ModuleList([])\n",
        "        for _ in range(num_layers):\n",
        "            self.transformer.append(nn.ModuleList([\n",
        "                nn.LayerNorm(128),\n",
        "                CausalSelfAttention(dim=128, dim_head=128, num_heads=4, dropout=0.05),\n",
        "                FFN(input_dim=128, hidden_dim=128, output_dim=128),\n",
        "            ]))\n",
        "        self.function_encoder = SimpleEncoder()\n",
        "        self.function_decoder = SimpleDecoder()\n",
        "        self.position_embedding =  PositionalEncoding(128, 40)\n",
        "\n",
        "        # report number of parameters\n",
        "        print(f\"Total number of trainable parameters: {self.get_num_params()}\" )\n",
        "\n",
        "    def get_num_params(self):\n",
        "        n_params = sum(p.numel() for p in self.parameters() if p.requires_grad)\n",
        "        return n_params\n",
        "\n",
        "    def forward(self, seq, noise=True, tstart=0):\n",
        "        # seq in shape [batch_size, 49, 100] t=49, n=100, think about why it is 49 not 50\n",
        "\n",
        "        b, t, n = seq.size()\n",
        "        device = seq.device\n",
        "\n",
        "        # forward the GPT model itself\n",
        "        if noise:\n",
        "            # add random walk noise to the input\n",
        "            seq = seq + torch.cumsum(torch.randn_like(seq) * 0.003, dim=1)\n",
        "        x = self.function_encoder(seq)   # [b t n] -> [b t c]\n",
        "        x = x + self.position_embedding(x) # add position embedding\n",
        "\n",
        "        for ln, attn_block, ffn in self.transformer:\n",
        "            # ln: layer normalization\n",
        "            # attn_block: self attention layer\n",
        "            # ffn: feed forward network (a two-layer MLP)\n",
        "            # ===================================================\n",
        "            # TODO: implement one forward pass of the transformer (do not modify other part of this class)\n",
        "\n",
        "            x = ln(x+attn_block(x))\n",
        "            x = ln(x+ffn(x))\n",
        "\n",
        "\n",
        "            # ===================================================\n",
        "\n",
        "        x = self.function_decoder(x)   # [b t c] -> [b t n]\n",
        "\n",
        "        return x\n",
        "\n",
        "    def predict(self, in_seq, predict_steps=30, tstart=0):\n",
        "        # in_seq will be in shape [batch_size, 10, 100]\n",
        "        out_seq = torch.zeros(in_seq.size(0), predict_steps, in_seq.size(2)).to(in_seq.device)\n",
        "        for t in range(predict_steps):\n",
        "            if self.training:\n",
        "                shifted_in_seq = self.forward(in_seq, noise=True, tstart=tstart)\n",
        "            else:\n",
        "                shifted_in_seq = self.forward(in_seq, noise=False, tstart=tstart)\n",
        "            in_seq = torch.cat((in_seq, shifted_in_seq[:, -1:]), dim=1)\n",
        "            out_seq[:, t:t+1] = shifted_in_seq[:, -1:]\n",
        "\n",
        "        return out_seq"
      ]
    },
    {
      "cell_type": "markdown",
      "metadata": {
        "id": "MlRmW-IDLnZk"
      },
      "source": [
        "### Train the model"
      ]
    },
    {
      "cell_type": "code",
      "execution_count": 19,
      "metadata": {
        "id": "8Mh_8lueLnZk"
      },
      "outputs": [],
      "source": [
        "### do not modify this cell!\n",
        "### ==============================\n",
        "def train_a_gpt(lr,\n",
        "                num_layers,\n",
        "                batch_size,\n",
        "                num_epochs):\n",
        "    device = torch.device(\"cuda:0\" if torch.cuda.is_available() else \"cpu\")\n",
        "    print('Using device:', device)\n",
        "    # train a GPT model with num_layers\n",
        "    model = PDEGPT(num_layers=num_layers)\n",
        "    model = model.to(device)\n",
        "\n",
        "    # build dataloader\n",
        "    train_set = torch.utils.data.TensorDataset(torch.tensor(train_data, dtype=torch.float32))\n",
        "    train_loader = torch.utils.data.DataLoader(train_set, batch_size=batch_size, shuffle=True, num_workers=4)\n",
        "\n",
        "    test_set = torch.utils.data.TensorDataset(torch.tensor(test_data, dtype=torch.float32))\n",
        "    test_loader = torch.utils.data.DataLoader(test_set, batch_size=8, shuffle=False, num_workers=4)\n",
        "\n",
        "    optimizer = torch.optim.AdamW(model.parameters(), lr=lr)\n",
        "    scheduler = torch.optim.lr_scheduler.OneCycleLR(optimizer, max_lr=lr, total_steps=num_epochs*len(train_loader), final_div_factor=1e3)\n",
        "\n",
        "    train_history = []\n",
        "    test_history = []\n",
        "    loss_buffer = []\n",
        "    for epoch in range(num_epochs):\n",
        "        model.train()\n",
        "        for i, seq in enumerate(train_loader):\n",
        "            seq = seq[0].to(device)\n",
        "            optimizer.zero_grad()\n",
        "            # training in block, not always using teacher forcing\n",
        "            if i % 3 == 0:\n",
        "                loss = 0\n",
        "                ct = 0\n",
        "                for b in range(0, seq.size(1)-20, 10):\n",
        "                    pred = model.predict(seq[:, b:b+10], predict_steps=10, tstart=b)\n",
        "                    loss += F.mse_loss(pred, seq[:, b+10:b+20])\n",
        "                    ct += 1\n",
        "                loss /= ct\n",
        "            else:\n",
        "                pred = model(seq[:, :-1])\n",
        "                loss = F.mse_loss(pred, seq[:, 1:])\n",
        "            loss.backward()\n",
        "            optimizer.step()\n",
        "            loss_buffer.append(loss.item())\n",
        "\n",
        "            if i % 20 == 0:\n",
        "                print(\"epoch %d, iter %d, loss %.3f\" % (epoch, i, np.mean(loss_buffer)))\n",
        "                loss_buffer = []\n",
        "        train_history.append(loss.item())\n",
        "        scheduler.step()\n",
        "\n",
        "        model.eval()\n",
        "        test_losses = []\n",
        "        with torch.no_grad():\n",
        "            for i, seq in enumerate(test_loader):\n",
        "                seq = seq[0].to(device)\n",
        "                pred = model.predict(seq[:, :10])\n",
        "                loss = F.mse_loss(pred, seq[:, 10:])\n",
        "\n",
        "                test_losses.append(loss.item())\n",
        "        print(\"epoch %d, test loss %.3f\" % (epoch, np.mean(test_losses)))\n",
        "        test_history.append(np.mean(test_losses))\n",
        "\n",
        "    return model, train_history, test_history\n",
        "\n",
        "\n",
        "def eval_and_visualize(trained_model):\n",
        "    device = torch.device(\"cuda:0\" if torch.cuda.is_available() else \"cpu\")\n",
        "    print('Using device:', device)\n",
        "    test_set = torch.utils.data.TensorDataset(torch.tensor(test_data, dtype=torch.float32))\n",
        "    test_loader = torch.utils.data.DataLoader(test_set, batch_size=8, shuffle=False, num_workers=4)\n",
        "\n",
        "    trained_model.eval()\n",
        "    test_losses = []\n",
        "    with torch.no_grad():\n",
        "        for i, seq in enumerate(test_loader):\n",
        "            seq = seq[0].to(device)\n",
        "            pred = trained_model.predict(seq[:, :10])\n",
        "            loss = F.mse_loss(pred, seq[:, 10:])\n",
        "\n",
        "            test_losses.append(loss.item())\n",
        "\n",
        "        print('Final evaluation error:', np.mean(test_losses))\n",
        "\n",
        "        # randomly pick a sample to evaluate and visualize\n",
        "        seed_everything()\n",
        "        idx = np.random.randint(0, len(test_data))\n",
        "        seq = torch.tensor(test_data[idx:idx+1], dtype=torch.float32).to(device)\n",
        "        pred = trained_model.predict(seq[:, :10])\n",
        "        pred_seq = torch.cat((seq[:, :10], pred), dim=1).cpu().numpy()[0]\n",
        "\n",
        "        plt.plot(np.linspace(0, 16, 100), seq.cpu().numpy()[0, -1], label='ground truth')\n",
        "        plt.scatter(np.linspace(0, 16, 100), pred_seq[-1], label='prediction', c='g')\n",
        "        plt.legend()\n",
        "        plt.show()\n",
        "\n",
        "    return"
      ]
    },
    {
      "cell_type": "code",
      "execution_count": 28,
      "metadata": {
        "colab": {
          "base_uri": "https://localhost:8080/",
          "height": 1000
        },
        "id": "9ZO6IkPfLnZk",
        "outputId": "8412fe35-7572-4c1a-c7a7-fa68d56648da"
      },
      "outputs": [
        {
          "output_type": "stream",
          "name": "stdout",
          "text": [
            "Using device: cuda:0\n",
            "Total number of trainable parameters: 1829540\n",
            "epoch 0, iter 0, loss 0.635\n",
            "epoch 0, iter 20, loss 0.548\n",
            "epoch 0, iter 40, loss 0.557\n",
            "epoch 0, iter 60, loss 0.560\n",
            "epoch 0, test loss 0.641\n",
            "epoch 1, iter 0, loss 0.527\n",
            "epoch 1, iter 20, loss 0.546\n",
            "epoch 1, iter 40, loss 0.556\n",
            "epoch 1, iter 60, loss 0.535\n",
            "epoch 1, test loss 0.616\n",
            "epoch 2, iter 0, loss 0.561\n",
            "epoch 2, iter 20, loss 0.529\n",
            "epoch 2, iter 40, loss 0.508\n",
            "epoch 2, iter 60, loss 0.497\n",
            "epoch 2, test loss 0.572\n",
            "epoch 3, iter 0, loss 0.483\n",
            "epoch 3, iter 20, loss 0.470\n",
            "epoch 3, iter 40, loss 0.489\n",
            "epoch 3, iter 60, loss 0.447\n",
            "epoch 3, test loss 0.527\n",
            "epoch 4, iter 0, loss 0.453\n",
            "epoch 4, iter 20, loss 0.452\n",
            "epoch 4, iter 40, loss 0.439\n",
            "epoch 4, iter 60, loss 0.414\n",
            "epoch 4, test loss 0.490\n",
            "epoch 5, iter 0, loss 0.397\n",
            "epoch 5, iter 20, loss 0.418\n",
            "epoch 5, iter 40, loss 0.388\n",
            "epoch 5, iter 60, loss 0.388\n",
            "epoch 5, test loss 0.453\n",
            "epoch 6, iter 0, loss 0.432\n",
            "epoch 6, iter 20, loss 0.369\n",
            "epoch 6, iter 40, loss 0.352\n",
            "epoch 6, iter 60, loss 0.374\n",
            "epoch 6, test loss 0.416\n",
            "epoch 7, iter 0, loss 0.358\n",
            "epoch 7, iter 20, loss 0.338\n",
            "epoch 7, iter 40, loss 0.328\n",
            "epoch 7, iter 60, loss 0.338\n",
            "epoch 7, test loss 0.384\n",
            "epoch 8, iter 0, loss 0.311\n",
            "epoch 8, iter 20, loss 0.313\n",
            "epoch 8, iter 40, loss 0.303\n",
            "epoch 8, iter 60, loss 0.298\n",
            "epoch 8, test loss 0.349\n",
            "epoch 9, iter 0, loss 0.281\n",
            "epoch 9, iter 20, loss 0.280\n",
            "epoch 9, iter 40, loss 0.282\n",
            "epoch 9, iter 60, loss 0.271\n",
            "epoch 9, test loss 0.318\n",
            "epoch 10, iter 0, loss 0.269\n",
            "epoch 10, iter 20, loss 0.257\n",
            "epoch 10, iter 40, loss 0.244\n",
            "epoch 10, iter 60, loss 0.245\n",
            "epoch 10, test loss 0.287\n",
            "epoch 11, iter 0, loss 0.230\n",
            "epoch 11, iter 20, loss 0.229\n",
            "epoch 11, iter 40, loss 0.225\n",
            "epoch 11, iter 60, loss 0.217\n",
            "epoch 11, test loss 0.260\n",
            "epoch 12, iter 0, loss 0.208\n",
            "epoch 12, iter 20, loss 0.196\n",
            "epoch 12, iter 40, loss 0.202\n",
            "epoch 12, iter 60, loss 0.195\n",
            "epoch 12, test loss 0.234\n",
            "epoch 13, iter 0, loss 0.195\n",
            "epoch 13, iter 20, loss 0.180\n",
            "epoch 13, iter 40, loss 0.176\n",
            "epoch 13, iter 60, loss 0.178\n",
            "epoch 13, test loss 0.209\n",
            "epoch 14, iter 0, loss 0.164\n",
            "epoch 14, iter 20, loss 0.159\n",
            "epoch 14, iter 40, loss 0.154\n",
            "epoch 14, iter 60, loss 0.159\n",
            "epoch 14, test loss 0.191\n",
            "epoch 15, iter 0, loss 0.149\n",
            "epoch 15, iter 20, loss 0.145\n",
            "epoch 15, iter 40, loss 0.135\n",
            "epoch 15, iter 60, loss 0.133\n",
            "epoch 15, test loss 0.168\n",
            "epoch 16, iter 0, loss 0.133\n",
            "epoch 16, iter 20, loss 0.126\n",
            "epoch 16, iter 40, loss 0.123\n",
            "epoch 16, iter 60, loss 0.112\n",
            "epoch 16, test loss 0.150\n",
            "epoch 17, iter 0, loss 0.115\n",
            "epoch 17, iter 20, loss 0.113\n",
            "epoch 17, iter 40, loss 0.110\n",
            "epoch 17, iter 60, loss 0.099\n",
            "epoch 17, test loss 0.134\n",
            "epoch 18, iter 0, loss 0.096\n",
            "epoch 18, iter 20, loss 0.099\n",
            "epoch 18, iter 40, loss 0.091\n",
            "epoch 18, iter 60, loss 0.090\n",
            "epoch 18, test loss 0.121\n",
            "epoch 19, iter 0, loss 0.080\n",
            "epoch 19, iter 20, loss 0.087\n",
            "epoch 19, iter 40, loss 0.086\n",
            "epoch 19, iter 60, loss 0.074\n",
            "epoch 19, test loss 0.108\n",
            "epoch 20, iter 0, loss 0.081\n",
            "epoch 20, iter 20, loss 0.073\n",
            "epoch 20, iter 40, loss 0.071\n",
            "epoch 20, iter 60, loss 0.070\n",
            "epoch 20, test loss 0.098\n",
            "epoch 21, iter 0, loss 0.075\n",
            "epoch 21, iter 20, loss 0.068\n",
            "epoch 21, iter 40, loss 0.065\n",
            "epoch 21, iter 60, loss 0.057\n",
            "epoch 21, test loss 0.089\n",
            "epoch 22, iter 0, loss 0.069\n",
            "epoch 22, iter 20, loss 0.056\n",
            "epoch 22, iter 40, loss 0.060\n",
            "epoch 22, iter 60, loss 0.056\n",
            "epoch 22, test loss 0.081\n",
            "epoch 23, iter 0, loss 0.056\n",
            "epoch 23, iter 20, loss 0.054\n",
            "epoch 23, iter 40, loss 0.053\n",
            "epoch 23, iter 60, loss 0.048\n",
            "epoch 23, test loss 0.073\n",
            "epoch 24, iter 0, loss 0.042\n",
            "epoch 24, iter 20, loss 0.049\n",
            "epoch 24, iter 40, loss 0.046\n",
            "epoch 24, iter 60, loss 0.046\n",
            "epoch 24, test loss 0.070\n",
            "epoch 25, iter 0, loss 0.040\n",
            "epoch 25, iter 20, loss 0.041\n",
            "epoch 25, iter 40, loss 0.043\n",
            "epoch 25, iter 60, loss 0.040\n",
            "epoch 25, test loss 0.063\n",
            "epoch 26, iter 0, loss 0.061\n",
            "epoch 26, iter 20, loss 0.040\n",
            "epoch 26, iter 40, loss 0.041\n",
            "epoch 26, iter 60, loss 0.034\n",
            "epoch 26, test loss 0.059\n",
            "epoch 27, iter 0, loss 0.037\n",
            "epoch 27, iter 20, loss 0.037\n",
            "epoch 27, iter 40, loss 0.033\n",
            "epoch 27, iter 60, loss 0.036\n",
            "epoch 27, test loss 0.055\n",
            "epoch 28, iter 0, loss 0.043\n",
            "epoch 28, iter 20, loss 0.033\n",
            "epoch 28, iter 40, loss 0.033\n",
            "epoch 28, iter 60, loss 0.033\n",
            "epoch 28, test loss 0.052\n",
            "epoch 29, iter 0, loss 0.033\n",
            "epoch 29, iter 20, loss 0.034\n",
            "epoch 29, iter 40, loss 0.032\n",
            "epoch 29, iter 60, loss 0.030\n",
            "epoch 29, test loss 0.049\n",
            "epoch 30, iter 0, loss 0.022\n",
            "epoch 30, iter 20, loss 0.029\n",
            "epoch 30, iter 40, loss 0.029\n",
            "epoch 30, iter 60, loss 0.031\n",
            "epoch 30, test loss 0.046\n",
            "epoch 31, iter 0, loss 0.022\n",
            "epoch 31, iter 20, loss 0.031\n",
            "epoch 31, iter 40, loss 0.027\n",
            "epoch 31, iter 60, loss 0.026\n",
            "epoch 31, test loss 0.045\n",
            "epoch 32, iter 0, loss 0.019\n",
            "epoch 32, iter 20, loss 0.027\n",
            "epoch 32, iter 40, loss 0.028\n",
            "epoch 32, iter 60, loss 0.025\n",
            "epoch 32, test loss 0.042\n",
            "epoch 33, iter 0, loss 0.024\n",
            "epoch 33, iter 20, loss 0.026\n",
            "epoch 33, iter 40, loss 0.024\n",
            "epoch 33, iter 60, loss 0.025\n",
            "epoch 33, test loss 0.041\n",
            "epoch 34, iter 0, loss 0.019\n",
            "epoch 34, iter 20, loss 0.023\n",
            "epoch 34, iter 40, loss 0.024\n",
            "epoch 34, iter 60, loss 0.024\n",
            "epoch 34, test loss 0.039\n",
            "epoch 35, iter 0, loss 0.025\n",
            "epoch 35, iter 20, loss 0.024\n",
            "epoch 35, iter 40, loss 0.022\n",
            "epoch 35, iter 60, loss 0.022\n",
            "epoch 35, test loss 0.038\n",
            "epoch 36, iter 0, loss 0.024\n",
            "epoch 36, iter 20, loss 0.024\n",
            "epoch 36, iter 40, loss 0.020\n",
            "epoch 36, iter 60, loss 0.021\n",
            "epoch 36, test loss 0.036\n",
            "epoch 37, iter 0, loss 0.021\n",
            "epoch 37, iter 20, loss 0.021\n",
            "epoch 37, iter 40, loss 0.021\n",
            "epoch 37, iter 60, loss 0.021\n",
            "epoch 37, test loss 0.035\n",
            "epoch 38, iter 0, loss 0.021\n",
            "epoch 38, iter 20, loss 0.019\n",
            "epoch 38, iter 40, loss 0.022\n",
            "epoch 38, iter 60, loss 0.021\n",
            "epoch 38, test loss 0.034\n",
            "epoch 39, iter 0, loss 0.019\n",
            "epoch 39, iter 20, loss 0.018\n",
            "epoch 39, iter 40, loss 0.019\n",
            "epoch 39, iter 60, loss 0.021\n",
            "epoch 39, test loss 0.033\n",
            "epoch 40, iter 0, loss 0.019\n",
            "epoch 40, iter 20, loss 0.021\n",
            "epoch 40, iter 40, loss 0.018\n",
            "epoch 40, iter 60, loss 0.018\n",
            "epoch 40, test loss 0.032\n",
            "epoch 41, iter 0, loss 0.016\n",
            "epoch 41, iter 20, loss 0.017\n",
            "epoch 41, iter 40, loss 0.019\n",
            "epoch 41, iter 60, loss 0.019\n",
            "epoch 41, test loss 0.031\n",
            "epoch 42, iter 0, loss 0.012\n",
            "epoch 42, iter 20, loss 0.017\n",
            "epoch 42, iter 40, loss 0.018\n",
            "epoch 42, iter 60, loss 0.018\n",
            "epoch 42, test loss 0.030\n",
            "epoch 43, iter 0, loss 0.015\n",
            "epoch 43, iter 20, loss 0.017\n",
            "epoch 43, iter 40, loss 0.020\n",
            "epoch 43, iter 60, loss 0.015\n",
            "epoch 43, test loss 0.030\n",
            "epoch 44, iter 0, loss 0.017\n",
            "epoch 44, iter 20, loss 0.018\n",
            "epoch 44, iter 40, loss 0.016\n",
            "epoch 44, iter 60, loss 0.017\n",
            "epoch 44, test loss 0.029\n",
            "epoch 45, iter 0, loss 0.015\n",
            "epoch 45, iter 20, loss 0.016\n",
            "epoch 45, iter 40, loss 0.015\n",
            "epoch 45, iter 60, loss 0.018\n",
            "epoch 45, test loss 0.029\n",
            "epoch 46, iter 0, loss 0.020\n",
            "epoch 46, iter 20, loss 0.018\n",
            "epoch 46, iter 40, loss 0.015\n",
            "epoch 46, iter 60, loss 0.014\n",
            "epoch 46, test loss 0.027\n",
            "epoch 47, iter 0, loss 0.017\n",
            "epoch 47, iter 20, loss 0.015\n",
            "epoch 47, iter 40, loss 0.013\n",
            "epoch 47, iter 60, loss 0.017\n",
            "epoch 47, test loss 0.027\n",
            "epoch 48, iter 0, loss 0.015\n",
            "epoch 48, iter 20, loss 0.015\n",
            "epoch 48, iter 40, loss 0.014\n",
            "epoch 48, iter 60, loss 0.016\n",
            "epoch 48, test loss 0.026\n",
            "epoch 49, iter 0, loss 0.013\n",
            "epoch 49, iter 20, loss 0.016\n",
            "epoch 49, iter 40, loss 0.013\n",
            "epoch 49, iter 60, loss 0.015\n",
            "epoch 49, test loss 0.027\n",
            "epoch 50, iter 0, loss 0.015\n",
            "epoch 50, iter 20, loss 0.017\n",
            "epoch 50, iter 40, loss 0.014\n",
            "epoch 50, iter 60, loss 0.013\n",
            "epoch 50, test loss 0.025\n",
            "epoch 51, iter 0, loss 0.011\n",
            "epoch 51, iter 20, loss 0.016\n",
            "epoch 51, iter 40, loss 0.014\n",
            "epoch 51, iter 60, loss 0.014\n",
            "epoch 51, test loss 0.024\n",
            "epoch 52, iter 0, loss 0.012\n",
            "epoch 52, iter 20, loss 0.014\n",
            "epoch 52, iter 40, loss 0.014\n",
            "epoch 52, iter 60, loss 0.013\n",
            "epoch 52, test loss 0.025\n",
            "epoch 53, iter 0, loss 0.016\n",
            "epoch 53, iter 20, loss 0.014\n",
            "epoch 53, iter 40, loss 0.013\n",
            "epoch 53, iter 60, loss 0.013\n",
            "epoch 53, test loss 0.024\n",
            "epoch 54, iter 0, loss 0.013\n",
            "epoch 54, iter 20, loss 0.014\n",
            "epoch 54, iter 40, loss 0.014\n",
            "epoch 54, iter 60, loss 0.013\n",
            "epoch 54, test loss 0.023\n",
            "epoch 55, iter 0, loss 0.012\n",
            "epoch 55, iter 20, loss 0.014\n",
            "epoch 55, iter 40, loss 0.014\n",
            "epoch 55, iter 60, loss 0.013\n",
            "epoch 55, test loss 0.024\n",
            "epoch 56, iter 0, loss 0.009\n",
            "epoch 56, iter 20, loss 0.013\n",
            "epoch 56, iter 40, loss 0.012\n",
            "epoch 56, iter 60, loss 0.014\n",
            "epoch 56, test loss 0.022\n",
            "epoch 57, iter 0, loss 0.011\n",
            "epoch 57, iter 20, loss 0.014\n",
            "epoch 57, iter 40, loss 0.012\n",
            "epoch 57, iter 60, loss 0.012\n",
            "epoch 57, test loss 0.022\n",
            "epoch 58, iter 0, loss 0.012\n",
            "epoch 58, iter 20, loss 0.013\n",
            "epoch 58, iter 40, loss 0.013\n",
            "epoch 58, iter 60, loss 0.011\n",
            "epoch 58, test loss 0.022\n",
            "epoch 59, iter 0, loss 0.018\n",
            "epoch 59, iter 20, loss 0.012\n",
            "epoch 59, iter 40, loss 0.013\n",
            "epoch 59, iter 60, loss 0.012\n",
            "epoch 59, test loss 0.022\n",
            "epoch 60, iter 0, loss 0.010\n",
            "epoch 60, iter 20, loss 0.012\n",
            "epoch 60, iter 40, loss 0.013\n",
            "epoch 60, iter 60, loss 0.013\n",
            "epoch 60, test loss 0.023\n",
            "epoch 61, iter 0, loss 0.012\n",
            "epoch 61, iter 20, loss 0.011\n",
            "epoch 61, iter 40, loss 0.013\n",
            "epoch 61, iter 60, loss 0.011\n",
            "epoch 61, test loss 0.021\n",
            "epoch 62, iter 0, loss 0.013\n",
            "epoch 62, iter 20, loss 0.012\n",
            "epoch 62, iter 40, loss 0.011\n",
            "epoch 62, iter 60, loss 0.013\n",
            "epoch 62, test loss 0.020\n",
            "epoch 63, iter 0, loss 0.015\n",
            "epoch 63, iter 20, loss 0.012\n",
            "epoch 63, iter 40, loss 0.012\n",
            "epoch 63, iter 60, loss 0.011\n",
            "epoch 63, test loss 0.022\n",
            "epoch 64, iter 0, loss 0.009\n",
            "epoch 64, iter 20, loss 0.012\n",
            "epoch 64, iter 40, loss 0.011\n",
            "epoch 64, iter 60, loss 0.012\n",
            "epoch 64, test loss 0.020\n",
            "epoch 65, iter 0, loss 0.012\n",
            "epoch 65, iter 20, loss 0.012\n",
            "epoch 65, iter 40, loss 0.011\n",
            "epoch 65, iter 60, loss 0.012\n",
            "epoch 65, test loss 0.021\n",
            "epoch 66, iter 0, loss 0.010\n",
            "epoch 66, iter 20, loss 0.012\n",
            "epoch 66, iter 40, loss 0.013\n",
            "epoch 66, iter 60, loss 0.010\n",
            "epoch 66, test loss 0.021\n",
            "epoch 67, iter 0, loss 0.008\n",
            "epoch 67, iter 20, loss 0.011\n",
            "epoch 67, iter 40, loss 0.010\n",
            "epoch 67, iter 60, loss 0.012\n",
            "epoch 67, test loss 0.020\n",
            "epoch 68, iter 0, loss 0.011\n",
            "epoch 68, iter 20, loss 0.011\n",
            "epoch 68, iter 40, loss 0.012\n",
            "epoch 68, iter 60, loss 0.010\n",
            "epoch 68, test loss 0.020\n",
            "epoch 69, iter 0, loss 0.010\n",
            "epoch 69, iter 20, loss 0.012\n",
            "epoch 69, iter 40, loss 0.011\n",
            "epoch 69, iter 60, loss 0.010\n",
            "epoch 69, test loss 0.020\n",
            "epoch 70, iter 0, loss 0.012\n",
            "epoch 70, iter 20, loss 0.012\n",
            "epoch 70, iter 40, loss 0.009\n",
            "epoch 70, iter 60, loss 0.011\n",
            "epoch 70, test loss 0.020\n",
            "epoch 71, iter 0, loss 0.010\n",
            "epoch 71, iter 20, loss 0.010\n",
            "epoch 71, iter 40, loss 0.011\n",
            "epoch 71, iter 60, loss 0.010\n",
            "epoch 71, test loss 0.018\n",
            "epoch 72, iter 0, loss 0.013\n",
            "epoch 72, iter 20, loss 0.011\n",
            "epoch 72, iter 40, loss 0.010\n",
            "epoch 72, iter 60, loss 0.010\n",
            "epoch 72, test loss 0.019\n",
            "epoch 73, iter 0, loss 0.012\n",
            "epoch 73, iter 20, loss 0.010\n",
            "epoch 73, iter 40, loss 0.011\n",
            "epoch 73, iter 60, loss 0.010\n",
            "epoch 73, test loss 0.018\n",
            "epoch 74, iter 0, loss 0.007\n",
            "epoch 74, iter 20, loss 0.011\n",
            "epoch 74, iter 40, loss 0.010\n",
            "epoch 74, iter 60, loss 0.010\n",
            "epoch 74, test loss 0.019\n",
            "epoch 75, iter 0, loss 0.011\n",
            "epoch 75, iter 20, loss 0.010\n",
            "epoch 75, iter 40, loss 0.011\n",
            "epoch 75, iter 60, loss 0.009\n",
            "epoch 75, test loss 0.019\n",
            "epoch 76, iter 0, loss 0.008\n",
            "epoch 76, iter 20, loss 0.010\n",
            "epoch 76, iter 40, loss 0.009\n",
            "epoch 76, iter 60, loss 0.010\n",
            "epoch 76, test loss 0.017\n",
            "epoch 77, iter 0, loss 0.010\n",
            "epoch 77, iter 20, loss 0.010\n",
            "epoch 77, iter 40, loss 0.009\n",
            "epoch 77, iter 60, loss 0.010\n",
            "epoch 77, test loss 0.017\n",
            "epoch 78, iter 0, loss 0.010\n",
            "epoch 78, iter 20, loss 0.010\n",
            "epoch 78, iter 40, loss 0.009\n",
            "epoch 78, iter 60, loss 0.009\n",
            "epoch 78, test loss 0.018\n",
            "epoch 79, iter 0, loss 0.010\n",
            "epoch 79, iter 20, loss 0.010\n",
            "epoch 79, iter 40, loss 0.010\n",
            "epoch 79, iter 60, loss 0.009\n",
            "epoch 79, test loss 0.017\n",
            "epoch 80, iter 0, loss 0.008\n",
            "epoch 80, iter 20, loss 0.009\n",
            "epoch 80, iter 40, loss 0.010\n",
            "epoch 80, iter 60, loss 0.010\n",
            "epoch 80, test loss 0.018\n",
            "epoch 81, iter 0, loss 0.007\n",
            "epoch 81, iter 20, loss 0.010\n",
            "epoch 81, iter 40, loss 0.009\n",
            "epoch 81, iter 60, loss 0.010\n",
            "epoch 81, test loss 0.018\n",
            "epoch 82, iter 0, loss 0.010\n",
            "epoch 82, iter 20, loss 0.010\n",
            "epoch 82, iter 40, loss 0.010\n",
            "epoch 82, iter 60, loss 0.009\n",
            "epoch 82, test loss 0.017\n",
            "epoch 83, iter 0, loss 0.007\n",
            "epoch 83, iter 20, loss 0.009\n",
            "epoch 83, iter 40, loss 0.009\n",
            "epoch 83, iter 60, loss 0.011\n",
            "epoch 83, test loss 0.018\n",
            "epoch 84, iter 0, loss 0.006\n",
            "epoch 84, iter 20, loss 0.010\n",
            "epoch 84, iter 40, loss 0.009\n",
            "epoch 84, iter 60, loss 0.009\n",
            "epoch 84, test loss 0.017\n",
            "epoch 85, iter 0, loss 0.009\n",
            "epoch 85, iter 20, loss 0.009\n",
            "epoch 85, iter 40, loss 0.008\n",
            "epoch 85, iter 60, loss 0.008\n",
            "epoch 85, test loss 0.016\n",
            "epoch 86, iter 0, loss 0.012\n",
            "epoch 86, iter 20, loss 0.010\n",
            "epoch 86, iter 40, loss 0.009\n",
            "epoch 86, iter 60, loss 0.008\n",
            "epoch 86, test loss 0.016\n",
            "epoch 87, iter 0, loss 0.005\n",
            "epoch 87, iter 20, loss 0.010\n",
            "epoch 87, iter 40, loss 0.008\n",
            "epoch 87, iter 60, loss 0.009\n",
            "epoch 87, test loss 0.015\n",
            "epoch 88, iter 0, loss 0.007\n",
            "epoch 88, iter 20, loss 0.010\n",
            "epoch 88, iter 40, loss 0.008\n",
            "epoch 88, iter 60, loss 0.008\n",
            "epoch 88, test loss 0.015\n",
            "epoch 89, iter 0, loss 0.009\n",
            "epoch 89, iter 20, loss 0.008\n",
            "epoch 89, iter 40, loss 0.008\n",
            "epoch 89, iter 60, loss 0.010\n",
            "epoch 89, test loss 0.016\n",
            "epoch 90, iter 0, loss 0.006\n",
            "epoch 90, iter 20, loss 0.008\n",
            "epoch 90, iter 40, loss 0.008\n",
            "epoch 90, iter 60, loss 0.008\n",
            "epoch 90, test loss 0.017\n",
            "epoch 91, iter 0, loss 0.008\n",
            "epoch 91, iter 20, loss 0.010\n",
            "epoch 91, iter 40, loss 0.008\n",
            "epoch 91, iter 60, loss 0.008\n",
            "epoch 91, test loss 0.016\n",
            "epoch 92, iter 0, loss 0.008\n",
            "epoch 92, iter 20, loss 0.009\n",
            "epoch 92, iter 40, loss 0.009\n",
            "epoch 92, iter 60, loss 0.008\n",
            "epoch 92, test loss 0.016\n",
            "epoch 93, iter 0, loss 0.008\n",
            "epoch 93, iter 20, loss 0.008\n",
            "epoch 93, iter 40, loss 0.009\n",
            "epoch 93, iter 60, loss 0.008\n",
            "epoch 93, test loss 0.015\n",
            "epoch 94, iter 0, loss 0.009\n",
            "epoch 94, iter 20, loss 0.008\n",
            "epoch 94, iter 40, loss 0.009\n",
            "epoch 94, iter 60, loss 0.008\n",
            "epoch 94, test loss 0.015\n",
            "epoch 95, iter 0, loss 0.008\n",
            "epoch 95, iter 20, loss 0.008\n",
            "epoch 95, iter 40, loss 0.009\n",
            "epoch 95, iter 60, loss 0.008\n",
            "epoch 95, test loss 0.016\n",
            "epoch 96, iter 0, loss 0.006\n",
            "epoch 96, iter 20, loss 0.008\n",
            "epoch 96, iter 40, loss 0.008\n",
            "epoch 96, iter 60, loss 0.008\n",
            "epoch 96, test loss 0.015\n",
            "epoch 97, iter 0, loss 0.007\n",
            "epoch 97, iter 20, loss 0.008\n",
            "epoch 97, iter 40, loss 0.008\n",
            "epoch 97, iter 60, loss 0.008\n",
            "epoch 97, test loss 0.015\n",
            "epoch 98, iter 0, loss 0.007\n",
            "epoch 98, iter 20, loss 0.008\n",
            "epoch 98, iter 40, loss 0.009\n",
            "epoch 98, iter 60, loss 0.007\n",
            "epoch 98, test loss 0.014\n",
            "epoch 99, iter 0, loss 0.008\n",
            "epoch 99, iter 20, loss 0.008\n",
            "epoch 99, iter 40, loss 0.008\n",
            "epoch 99, iter 60, loss 0.008\n",
            "epoch 99, test loss 0.015\n",
            "Using device: cuda:0\n",
            "Final evaluation error: 0.014615466847317293\n"
          ]
        },
        {
          "output_type": "display_data",
          "data": {
            "text/plain": [
              "<Figure size 640x480 with 1 Axes>"
            ],
            "image/png": "[encoded data removed]"
          },
          "metadata": {}
        },
        {
          "output_type": "execute_result",
          "data": {
            "text/plain": [
              "<matplotlib.legend.Legend at 0x7df70e2628c0>"
            ]
          },
          "metadata": {},
          "execution_count": 28
        },
        {
          "output_type": "display_data",
          "data": {
            "text/plain": [
              "<Figure size 640x480 with 1 Axes>"
            ],
            "image/png": "[encoded data removed]"
          },
          "metadata": {}
        }
      ],
      "source": [
        "### you can change the hyperparameter of \"train_a_gpt\" to see how it affects the performance, please do not modify the other parts\n",
        "### ==============================\n",
        "\n",
        "torch.cuda.empty_cache()\n",
        "# change the parameters to see how it affects the performance\n",
        "model, train_history, test_history = train_a_gpt(lr=1e-3, num_layers=6, batch_size=32, num_epochs=100)\n",
        "eval_and_visualize(model)\n",
        "\n",
        "plt.plot(train_history, label='train loss')  # simply visualize the training loss\n",
        "plt.plot(test_history, label='test loss')\n",
        "plt.legend()"
      ]
    },
    {
      "cell_type": "code",
      "execution_count": null,
      "metadata": {
        "id": "Vyw-APxBLnZk"
      },
      "outputs": [],
      "source": []
    }
  ],
  "metadata": {
    "kernelspec": {
      "display_name": "Python 3",
      "name": "python3"
    },
    "language_info": {
      "codemirror_mode": {
        "name": "ipython",
        "version": 3
      },
      "file_extension": ".py",
      "mimetype": "text/x-python",
      "name": "python",
      "nbconvert_exporter": "python",
      "pygments_lexer": "ipython3",
      "version": "3.11.7"
    },
    "orig_nbformat": 4,
    "vscode": {
      "interpreter": {
        "hash": "9ef82355f13eb679900c7424dbcb885eb37724b701d6346c4b24e37be0cce3a5"
      }
    },
    "colab": {
      "provenance": [],
      "gpuType": "T4"
    },
    "accelerator": "GPU"
  },
  "nbformat": 4,
  "nbformat_minor": 0
}